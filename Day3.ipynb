{
  "cells": [
    {
      "cell_type": "markdown",
      "metadata": {
        "id": "OAkf3WdA1OMp"
      },
      "source": [
        "# Session 2 - Strings and list objects"
      ]
    },
    {
      "cell_type": "markdown",
      "metadata": {
        "id": "beuXdNY31OMt"
      },
      "source": [
        "# Strings"
      ]
    },
    {
      "cell_type": "markdown",
      "metadata": {
        "id": "3L-2Y9GM1OMu"
      },
      "source": [
        "Strings are used to record the text information such as name. In Python, Strings act as “Sequence” which means Python tracks every element in the String as a sequence. This is one of the important features of the Python language.\n",
        "\n",
        "For example, Python understands the string \"hello' to be a sequence of letters in a specific order which means the indexing technique to grab particular letters (like first letter or the last letter)."
      ]
    },
    {
      "cell_type": "markdown",
      "metadata": {
        "id": "VOlAPwno1OM7"
      },
      "source": [
        "## Creating a String\n",
        "In Python, either single quote (‘) or double quotes (“) must be used while creating a string.\n",
        "\n",
        "    For example:"
      ]
    },
    {
      "cell_type": "code",
      "execution_count": 1,
      "metadata": {
        "colab": {
          "base_uri": "https://localhost:8080/",
          "height": 36
        },
        "id": "RJW840Le1OM7",
        "outputId": "35db5ee0-17a6-4286-e05d-b70308028390"
      },
      "outputs": [
        {
          "output_type": "execute_result",
          "data": {
            "text/plain": [
              "'Hello'"
            ],
            "application/vnd.google.colaboratory.intrinsic+json": {
              "type": "string"
            }
          },
          "metadata": {},
          "execution_count": 1
        }
      ],
      "source": [
        "# Single word\n",
        "'Hello'"
      ]
    },
    {
      "cell_type": "code",
      "execution_count": 2,
      "metadata": {
        "colab": {
          "base_uri": "https://localhost:8080/",
          "height": 36
        },
        "id": "f4gR_-Au1OM9",
        "outputId": "3d417390-f560-49cc-f163-7fb3959111a1"
      },
      "outputs": [
        {
          "output_type": "execute_result",
          "data": {
            "text/plain": [
              "'I am an Engineering Student'"
            ],
            "application/vnd.google.colaboratory.intrinsic+json": {
              "type": "string"
            }
          },
          "metadata": {},
          "execution_count": 2
        }
      ],
      "source": [
        "# Entire phrase \n",
        "'I am an Engineering Student'"
      ]
    },
    {
      "cell_type": "code",
      "execution_count": 3,
      "metadata": {
        "colab": {
          "base_uri": "https://localhost:8080/",
          "height": 36
        },
        "id": "xnICRnMb1OM9",
        "outputId": "5a7d4bb5-2e1f-4f03-b3ef-0fa9b5dc99b4"
      },
      "outputs": [
        {
          "output_type": "execute_result",
          "data": {
            "text/plain": [
              "'I am from ECE'"
            ],
            "application/vnd.google.colaboratory.intrinsic+json": {
              "type": "string"
            }
          },
          "metadata": {},
          "execution_count": 3
        }
      ],
      "source": [
        "# We can also use double quote\n",
        "\"I am from ECE\""
      ]
    },
    {
      "cell_type": "code",
      "execution_count": null,
      "metadata": {
        "id": "70EGcYw_1OM9"
      },
      "outputs": [],
      "source": [
        "# Be careful with quotes!\n"
      ]
    },
    {
      "cell_type": "markdown",
      "metadata": {
        "id": "_6WiQpDX1OM-"
      },
      "source": [
        "The above code results in an error as the text “I’m” stops the string. Here, a combination of single quotes and double quotes can be used to get the complete statement."
      ]
    },
    {
      "cell_type": "code",
      "execution_count": null,
      "metadata": {
        "id": "v4v1ZIM_1OM-"
      },
      "outputs": [],
      "source": []
    },
    {
      "cell_type": "markdown",
      "metadata": {
        "id": "SU5ANt3u1OM_"
      },
      "source": [
        "Now let's learn about printing strings!"
      ]
    },
    {
      "cell_type": "markdown",
      "metadata": {
        "id": "YOL1TV2B1ONA"
      },
      "source": [
        "## Printing a String\n",
        "\n",
        "We can automatically display the output strings using Jupyter notebook with just a string in a cell. But,the correct way to display strings in your output is by using a print function."
      ]
    },
    {
      "cell_type": "code",
      "execution_count": 4,
      "metadata": {
        "colab": {
          "base_uri": "https://localhost:8080/",
          "height": 36
        },
        "id": "Yqr56IhH1ONB",
        "outputId": "d7f84f8a-7496-44e0-aa7b-dd4e710672e9"
      },
      "outputs": [
        {
          "output_type": "execute_result",
          "data": {
            "text/plain": [
              "'Hello world'"
            ],
            "application/vnd.google.colaboratory.intrinsic+json": {
              "type": "string"
            }
          },
          "metadata": {},
          "execution_count": 4
        }
      ],
      "source": [
        "# We can simply declare a string\n",
        "\"Hello world\""
      ]
    },
    {
      "cell_type": "code",
      "execution_count": null,
      "metadata": {
        "id": "x79R3eJH1ONB"
      },
      "outputs": [],
      "source": [
        "# note that we can't output multiple strings this way\n"
      ]
    },
    {
      "cell_type": "markdown",
      "metadata": {
        "id": "sLtQNWOk1ONC"
      },
      "source": [
        "In Python 2, the output of the below code snippet is displayed using \"print\" statement as shown in the below syntax but the same syntax will throw error in Python 3."
      ]
    },
    {
      "cell_type": "code",
      "execution_count": null,
      "metadata": {
        "id": "daoJ9ePO1ONC"
      },
      "outputs": [],
      "source": []
    },
    {
      "cell_type": "markdown",
      "metadata": {
        "collapsed": true,
        "id": "VF6uJXTx1ONC"
      },
      "source": [
        "### <font color='red'>Python 3 Alert!</font>"
      ]
    },
    {
      "cell_type": "markdown",
      "metadata": {
        "id": "Nebrz5WW1ONC"
      },
      "source": [
        "Note that, In Python 3, print is a function and not a statement. So you would print statements like this:\n",
        "print('Hello World')\n",
        "\n",
        "If you want to use this functionality in Python2, you can import form the __future__ module. \n",
        "\n",
        "**Caution: After importing this; you won't be able to choose the print statement method anymore. So pick the right one whichever  you prefer depending on your Python installation and continue on with it.**"
      ]
    },
    {
      "cell_type": "code",
      "execution_count": null,
      "metadata": {
        "id": "P3lZcd5R1OND"
      },
      "outputs": [],
      "source": [
        "# To use print function from Python 3 in Python 2\n"
      ]
    },
    {
      "cell_type": "markdown",
      "metadata": {
        "id": "XCtrDJkt1OND"
      },
      "source": [
        "## String Basics"
      ]
    },
    {
      "cell_type": "markdown",
      "metadata": {
        "id": "jIqSdPOO1ONE"
      },
      "source": [
        "In Strings, the length of the string can be found out by using a function called len()."
      ]
    },
    {
      "cell_type": "code",
      "execution_count": 5,
      "metadata": {
        "colab": {
          "base_uri": "https://localhost:8080/"
        },
        "id": "mgVeKQVP1ONE",
        "outputId": "09a3faed-39fb-4ac7-e3ab-d76b4621641e"
      },
      "outputs": [
        {
          "output_type": "execute_result",
          "data": {
            "text/plain": [
              "11"
            ]
          },
          "metadata": {},
          "execution_count": 5
        }
      ],
      "source": [
        "len(\"Hello World\")"
      ]
    },
    {
      "cell_type": "markdown",
      "metadata": {
        "id": "M9D4uOQc1ONE"
      },
      "source": [
        "## String Indexing\n",
        "We know strings are a sequence, which means Python can use indexes to call all the sequence parts. Let's learn how String Indexing works.\n",
        "•\tWe use brackets [] after an object to call its index. \n",
        "•\tWe should also note that indexing starts at 0 for Python. \n",
        "Now, Let's create a new object called s and the walk through a few examples of indexing."
      ]
    },
    {
      "cell_type": "code",
      "execution_count": 7,
      "metadata": {
        "id": "qFt0s8IJ1ONF"
      },
      "outputs": [],
      "source": [
        "# Assign s as a string\n",
        "s = 'Sandeep'"
      ]
    },
    {
      "cell_type": "code",
      "execution_count": 8,
      "metadata": {
        "colab": {
          "base_uri": "https://localhost:8080/",
          "height": 36
        },
        "id": "fHmAqcoy1ONF",
        "outputId": "8d5c8af0-de59-42e3-9977-b818ae1984ff"
      },
      "outputs": [
        {
          "output_type": "execute_result",
          "data": {
            "text/plain": [
              "'Sandeep'"
            ],
            "application/vnd.google.colaboratory.intrinsic+json": {
              "type": "string"
            }
          },
          "metadata": {},
          "execution_count": 8
        }
      ],
      "source": [
        "#Check\n",
        "s"
      ]
    },
    {
      "cell_type": "code",
      "execution_count": 9,
      "metadata": {
        "colab": {
          "base_uri": "https://localhost:8080/"
        },
        "id": "Svn0RLOc1ONF",
        "outputId": "00473bc7-e6d4-4852-af1b-3bc1088d822d"
      },
      "outputs": [
        {
          "output_type": "stream",
          "name": "stdout",
          "text": [
            "Sandeep\n"
          ]
        }
      ],
      "source": [
        "# Print the object\n",
        "print(s)"
      ]
    },
    {
      "cell_type": "markdown",
      "metadata": {
        "id": "UwLVLDF11ONG"
      },
      "source": [
        "Let's start indexing!"
      ]
    },
    {
      "cell_type": "code",
      "execution_count": 10,
      "metadata": {
        "colab": {
          "base_uri": "https://localhost:8080/",
          "height": 36
        },
        "id": "uBKBverX1ONG",
        "outputId": "0d3ddaec-45ba-4538-b2a2-71b113f27473"
      },
      "outputs": [
        {
          "output_type": "execute_result",
          "data": {
            "text/plain": [
              "'S'"
            ],
            "application/vnd.google.colaboratory.intrinsic+json": {
              "type": "string"
            }
          },
          "metadata": {},
          "execution_count": 10
        }
      ],
      "source": [
        "# Show first element (in this case a letter)\n",
        "s[0]"
      ]
    },
    {
      "cell_type": "code",
      "execution_count": 14,
      "metadata": {
        "colab": {
          "base_uri": "https://localhost:8080/",
          "height": 36
        },
        "id": "f4xdTjZ31ONG",
        "outputId": "406a0d51-84f9-43ea-aa77-525c3022c282"
      },
      "outputs": [
        {
          "output_type": "execute_result",
          "data": {
            "text/plain": [
              "'e'"
            ],
            "application/vnd.google.colaboratory.intrinsic+json": {
              "type": "string"
            }
          },
          "metadata": {},
          "execution_count": 14
        }
      ],
      "source": [
        "s[5]"
      ]
    },
    {
      "cell_type": "code",
      "execution_count": null,
      "metadata": {
        "id": "02t4bDCs1ONH"
      },
      "outputs": [],
      "source": []
    },
    {
      "cell_type": "markdown",
      "metadata": {
        "id": "tpWvq2F-1ONH"
      },
      "source": [
        "We can use a : to perform *slicing* which grabs everything up to a designated point. For example:"
      ]
    },
    {
      "cell_type": "code",
      "execution_count": 15,
      "metadata": {
        "colab": {
          "base_uri": "https://localhost:8080/",
          "height": 36
        },
        "id": "FzMQR3ht1ONH",
        "outputId": "2120afae-f6e1-498f-fe5e-3b26c6c8f29e"
      },
      "outputs": [
        {
          "output_type": "execute_result",
          "data": {
            "text/plain": [
              "'andeep'"
            ],
            "application/vnd.google.colaboratory.intrinsic+json": {
              "type": "string"
            }
          },
          "metadata": {},
          "execution_count": 15
        }
      ],
      "source": [
        "# Grab everything past the first term all the way to the length of s which is len(s)\n",
        "s[1:]"
      ]
    },
    {
      "cell_type": "code",
      "execution_count": 16,
      "metadata": {
        "colab": {
          "base_uri": "https://localhost:8080/",
          "height": 36
        },
        "id": "rcTZaTfA1ONH",
        "outputId": "696f694c-5075-4e84-aea0-4210d2432125"
      },
      "outputs": [
        {
          "output_type": "execute_result",
          "data": {
            "text/plain": [
              "'Sandeep'"
            ],
            "application/vnd.google.colaboratory.intrinsic+json": {
              "type": "string"
            }
          },
          "metadata": {},
          "execution_count": 16
        }
      ],
      "source": [
        "# Note that there is no change to the original s\n",
        "s"
      ]
    },
    {
      "cell_type": "code",
      "execution_count": 17,
      "metadata": {
        "colab": {
          "base_uri": "https://localhost:8080/",
          "height": 36
        },
        "id": "F2gkw0Ln1ONI",
        "outputId": "881e149e-e7ff-4ce3-ae85-564d8c779f59"
      },
      "outputs": [
        {
          "output_type": "execute_result",
          "data": {
            "text/plain": [
              "'San'"
            ],
            "application/vnd.google.colaboratory.intrinsic+json": {
              "type": "string"
            }
          },
          "metadata": {},
          "execution_count": 17
        }
      ],
      "source": [
        "# Grab everything UP TO the 3rd index\n",
        "s[:3]"
      ]
    },
    {
      "cell_type": "markdown",
      "metadata": {
        "id": "GvtQgNoR1ONI"
      },
      "source": [
        "Note the above slicing. Here we're telling Python to grab everything from 0 up to 3. It doesn't include the 3rd index. You'll notice this a lot in Python, where statements and are usually in the context of \"up to, but not including\"."
      ]
    },
    {
      "cell_type": "code",
      "execution_count": 18,
      "metadata": {
        "colab": {
          "base_uri": "https://localhost:8080/",
          "height": 36
        },
        "id": "lyAgjTBf1ONI",
        "outputId": "daad4651-2656-4e34-f33f-0fa60d25c7c3"
      },
      "outputs": [
        {
          "output_type": "execute_result",
          "data": {
            "text/plain": [
              "'Sandeep'"
            ],
            "application/vnd.google.colaboratory.intrinsic+json": {
              "type": "string"
            }
          },
          "metadata": {},
          "execution_count": 18
        }
      ],
      "source": [
        "#Everything\n",
        "s[:]"
      ]
    },
    {
      "cell_type": "markdown",
      "metadata": {
        "id": "iT_SS9Kf1ONM"
      },
      "source": [
        "We can also use negative indexing to go backwards."
      ]
    },
    {
      "cell_type": "code",
      "execution_count": 25,
      "metadata": {
        "colab": {
          "base_uri": "https://localhost:8080/",
          "height": 36
        },
        "id": "aFPs8LW61ONM",
        "outputId": "8c4c15fa-6310-48e9-8359-6ab33705f444"
      },
      "outputs": [
        {
          "output_type": "execute_result",
          "data": {
            "text/plain": [
              "'p'"
            ],
            "application/vnd.google.colaboratory.intrinsic+json": {
              "type": "string"
            }
          },
          "metadata": {},
          "execution_count": 25
        }
      ],
      "source": [
        "# Last letter (one index behind 0 so it loops back around)\n",
        "s[-1]"
      ]
    },
    {
      "cell_type": "code",
      "execution_count": 24,
      "metadata": {
        "colab": {
          "base_uri": "https://localhost:8080/",
          "height": 36
        },
        "id": "khn5dKQQ1ONN",
        "outputId": "06635e52-c2ee-47c5-dfe7-b83ded81c2ea"
      },
      "outputs": [
        {
          "output_type": "execute_result",
          "data": {
            "text/plain": [
              "'Sandee'"
            ],
            "application/vnd.google.colaboratory.intrinsic+json": {
              "type": "string"
            }
          },
          "metadata": {},
          "execution_count": 24
        }
      ],
      "source": [
        "# Grab everything but the last letter\n",
        "s[:-1]"
      ]
    },
    {
      "cell_type": "markdown",
      "metadata": {
        "id": "K3uPRjY-1ONN"
      },
      "source": [
        "Index and slice notation is used to grab elements of a sequenec by a specified step size (where in 1 is the default size). For instance we can use two colons in a row and then a number specifying the frequency to grab elements. For example:"
      ]
    },
    {
      "cell_type": "code",
      "execution_count": 19,
      "metadata": {
        "colab": {
          "base_uri": "https://localhost:8080/",
          "height": 36
        },
        "id": "yOAb1T2M1ONN",
        "outputId": "aee5c449-87ff-4255-a163-56bb0df4d3a4"
      },
      "outputs": [
        {
          "output_type": "execute_result",
          "data": {
            "text/plain": [
              "'Sandeep'"
            ],
            "application/vnd.google.colaboratory.intrinsic+json": {
              "type": "string"
            }
          },
          "metadata": {},
          "execution_count": 19
        }
      ],
      "source": [
        "# Grab everything, but go in steps size of 1\n",
        "s[::1]"
      ]
    },
    {
      "cell_type": "code",
      "execution_count": 20,
      "metadata": {
        "colab": {
          "base_uri": "https://localhost:8080/",
          "height": 36
        },
        "id": "2BIZL9nB1ONO",
        "outputId": "292bbe99-d660-419e-a8a7-d64946a44c68"
      },
      "outputs": [
        {
          "output_type": "execute_result",
          "data": {
            "text/plain": [
              "'Snep'"
            ],
            "application/vnd.google.colaboratory.intrinsic+json": {
              "type": "string"
            }
          },
          "metadata": {},
          "execution_count": 20
        }
      ],
      "source": [
        "# Grab everything, but go in step sizes of 2\n",
        "s[::2]"
      ]
    },
    {
      "cell_type": "code",
      "execution_count": 21,
      "metadata": {
        "colab": {
          "base_uri": "https://localhost:8080/",
          "height": 36
        },
        "id": "1gAvOKta1ONO",
        "outputId": "34c0d94b-803b-40ca-b305-47f97e53cee5"
      },
      "outputs": [
        {
          "output_type": "execute_result",
          "data": {
            "text/plain": [
              "'peednaS'"
            ],
            "application/vnd.google.colaboratory.intrinsic+json": {
              "type": "string"
            }
          },
          "metadata": {},
          "execution_count": 21
        }
      ],
      "source": [
        "# We can use this to print a string backwards\n",
        "s[::-1]"
      ]
    },
    {
      "cell_type": "markdown",
      "metadata": {
        "collapsed": true,
        "id": "QYoEG0-u1ONO"
      },
      "source": [
        "## String Properties\n",
        "\n",
        "Immutability is one the finest string property whichh is created once and the elements within it cannot be changed or replaced. For example:"
      ]
    },
    {
      "cell_type": "code",
      "execution_count": null,
      "metadata": {
        "id": "Zz382Qk_1ONP"
      },
      "outputs": [],
      "source": []
    },
    {
      "cell_type": "code",
      "execution_count": 26,
      "metadata": {
        "colab": {
          "base_uri": "https://localhost:8080/",
          "height": 182
        },
        "id": "XHIkqcqe1ONP",
        "outputId": "87caef12-e569-4951-c3c4-379e54aa0811"
      },
      "outputs": [
        {
          "output_type": "error",
          "ename": "TypeError",
          "evalue": "ignored",
          "traceback": [
            "\u001b[0;31m---------------------------------------------------------------------------\u001b[0m",
            "\u001b[0;31mTypeError\u001b[0m                                 Traceback (most recent call last)",
            "\u001b[0;32m<ipython-input-26-219da1d68c33>\u001b[0m in \u001b[0;36m<module>\u001b[0;34m\u001b[0m\n\u001b[1;32m      1\u001b[0m \u001b[0;31m# Let's try to change the first letter to 'x'\u001b[0m\u001b[0;34m\u001b[0m\u001b[0;34m\u001b[0m\u001b[0;34m\u001b[0m\u001b[0m\n\u001b[0;32m----> 2\u001b[0;31m \u001b[0ms\u001b[0m\u001b[0;34m[\u001b[0m\u001b[0;36m0\u001b[0m\u001b[0;34m]\u001b[0m \u001b[0;34m=\u001b[0m\u001b[0;34m's'\u001b[0m\u001b[0;34m\u001b[0m\u001b[0;34m\u001b[0m\u001b[0m\n\u001b[0m",
            "\u001b[0;31mTypeError\u001b[0m: 'str' object does not support item assignment"
          ]
        }
      ],
      "source": [
        "# Let's try to change the first letter to 'x'\n",
        "s[0] ='s'"
      ]
    },
    {
      "cell_type": "markdown",
      "metadata": {
        "id": "gNgUn9o81ONP"
      },
      "source": [
        "Notice how the error tells us directly what we can't do, change the item assignment!\n",
        "\n",
        "Something we can do is concatenate strings!"
      ]
    },
    {
      "cell_type": "code",
      "execution_count": 40,
      "metadata": {
        "colab": {
          "base_uri": "https://localhost:8080/",
          "height": 36
        },
        "id": "T7bB00ED1ONQ",
        "outputId": "f0064fd6-6eb1-499e-aff6-af8a2ffcdb96"
      },
      "outputs": [
        {
          "output_type": "execute_result",
          "data": {
            "text/plain": [
              "'Sandeep is a good boy is a good boy is a good boy is a good boy is a good boy is a good boy'"
            ],
            "application/vnd.google.colaboratory.intrinsic+json": {
              "type": "string"
            }
          },
          "metadata": {},
          "execution_count": 40
        }
      ],
      "source": [
        "s"
      ]
    },
    {
      "cell_type": "code",
      "execution_count": 39,
      "metadata": {
        "colab": {
          "base_uri": "https://localhost:8080/",
          "height": 36
        },
        "id": "tNuYtPJB1ONQ",
        "outputId": "ae904b7b-f09d-4f0c-c6d1-2886da23a383"
      },
      "outputs": [
        {
          "output_type": "execute_result",
          "data": {
            "text/plain": [
              "'Sandeep is a good boy is a good boy is a good boy is a good boy is a good boy is a good boy is a good boy'"
            ],
            "application/vnd.google.colaboratory.intrinsic+json": {
              "type": "string"
            }
          },
          "metadata": {},
          "execution_count": 39
        }
      ],
      "source": [
        "# Concatenate strings!\n",
        "s + ' is a good boy'"
      ]
    },
    {
      "cell_type": "code",
      "execution_count": 38,
      "metadata": {
        "colab": {
          "base_uri": "https://localhost:8080/",
          "height": 36
        },
        "id": "fy0OXVHH1ONQ",
        "outputId": "d8a3a786-75d3-4fef-96b3-08fa3bb47683"
      },
      "outputs": [
        {
          "output_type": "execute_result",
          "data": {
            "text/plain": [
              "'Sandeep is a good boy is a good boy is a good boy is a good boy is a good boy is a good boy'"
            ],
            "application/vnd.google.colaboratory.intrinsic+json": {
              "type": "string"
            }
          },
          "metadata": {},
          "execution_count": 38
        }
      ],
      "source": [
        "# We can reassign s completely though!\n",
        "s"
      ]
    },
    {
      "cell_type": "code",
      "execution_count": null,
      "metadata": {
        "id": "X3AnLTRY1ONQ"
      },
      "outputs": [],
      "source": []
    },
    {
      "cell_type": "code",
      "execution_count": null,
      "metadata": {
        "id": "JUqFTMfl1ONR"
      },
      "outputs": [],
      "source": []
    },
    {
      "cell_type": "markdown",
      "metadata": {
        "id": "GnzbPlZD1ONR"
      },
      "source": [
        "We can use the multiplication symbol to create repetition!"
      ]
    },
    {
      "cell_type": "code",
      "execution_count": 42,
      "metadata": {
        "id": "SNoVY4BL1ONR"
      },
      "outputs": [],
      "source": [
        "s='e'"
      ]
    },
    {
      "cell_type": "code",
      "execution_count": 43,
      "metadata": {
        "colab": {
          "base_uri": "https://localhost:8080/",
          "height": 36
        },
        "id": "GixY56Ui1ONR",
        "outputId": "68312af1-2359-49a1-9680-d0c5a3d596d7"
      },
      "outputs": [
        {
          "output_type": "execute_result",
          "data": {
            "text/plain": [
              "'eeeeeeee'"
            ],
            "application/vnd.google.colaboratory.intrinsic+json": {
              "type": "string"
            }
          },
          "metadata": {},
          "execution_count": 43
        }
      ],
      "source": [
        "s*8"
      ]
    },
    {
      "cell_type": "markdown",
      "metadata": {
        "id": "dbvoFYzf1ONR"
      },
      "source": [
        "## Basic Built-in String methods\n",
        "\n",
        "In Python, Objects have built-in methods which means these methods are functions present inside the object (we will learn about these in much more depth later) that can perform actions or commands on the object itself.\n",
        "\n",
        "Methods can be called with a period followed by the method name. Methods are in the form:\n",
        "\n",
        "object.method(parameters)\n",
        "\n",
        "Where parameters are extra arguments which are passed into the method. Right now, it is not necessary to make 100% sense but going forward we will create our own objects and functions. \n",
        "\n",
        "Here are some examples of built-in methods in strings:"
      ]
    },
    {
      "cell_type": "code",
      "execution_count": 46,
      "metadata": {
        "colab": {
          "base_uri": "https://localhost:8080/",
          "height": 36
        },
        "id": "-BVjGfEJ1ONS",
        "outputId": "15e85fcc-5b4b-4046-d9cd-23b8dde11f57"
      },
      "outputs": [
        {
          "output_type": "execute_result",
          "data": {
            "text/plain": [
              "'hello world'"
            ],
            "application/vnd.google.colaboratory.intrinsic+json": {
              "type": "string"
            }
          },
          "metadata": {},
          "execution_count": 46
        }
      ],
      "source": [
        "s='hello world'\n",
        "s"
      ]
    },
    {
      "cell_type": "code",
      "execution_count": 48,
      "metadata": {
        "colab": {
          "base_uri": "https://localhost:8080/",
          "height": 36
        },
        "id": "zYuGdgQy1ONS",
        "outputId": "8cfcb684-1b9c-4f47-bdd3-0a3bacaac2b4"
      },
      "outputs": [
        {
          "output_type": "execute_result",
          "data": {
            "text/plain": [
              "'HELLO WORLD'"
            ],
            "application/vnd.google.colaboratory.intrinsic+json": {
              "type": "string"
            }
          },
          "metadata": {},
          "execution_count": 48
        }
      ],
      "source": [
        "# Upper Case a string\n",
        "s.upper()"
      ]
    },
    {
      "cell_type": "code",
      "execution_count": null,
      "metadata": {
        "id": "wGzv7YR_1ONS"
      },
      "outputs": [],
      "source": [
        "# Lower case\n"
      ]
    },
    {
      "cell_type": "code",
      "execution_count": 49,
      "metadata": {
        "colab": {
          "base_uri": "https://localhost:8080/"
        },
        "id": "mAuXa6vy1ONT",
        "outputId": "98838dd0-ca12-42fa-c018-0be1eecb82d1"
      },
      "outputs": [
        {
          "output_type": "execute_result",
          "data": {
            "text/plain": [
              "['hello', 'world']"
            ]
          },
          "metadata": {},
          "execution_count": 49
        }
      ],
      "source": [
        "# Split a string by blank space (this is the default)\n",
        "s.split()"
      ]
    },
    {
      "cell_type": "code",
      "execution_count": 51,
      "metadata": {
        "colab": {
          "base_uri": "https://localhost:8080/"
        },
        "id": "hX9BRIkA1ONT",
        "outputId": "c089a15a-c6d9-4d62-9a56-07f5621f51a1"
      },
      "outputs": [
        {
          "output_type": "execute_result",
          "data": {
            "text/plain": [
              "['hell', ' w', 'rld']"
            ]
          },
          "metadata": {},
          "execution_count": 51
        }
      ],
      "source": [
        "# Split by a specific element (doesn't include the element that was split on)\n",
        "s.split('o')"
      ]
    },
    {
      "cell_type": "markdown",
      "metadata": {
        "id": "aYG2MJ7J1ONT"
      },
      "source": [
        "There are many more methods than the ones covered here. To know more about the String functions, Visit the advanced String section."
      ]
    },
    {
      "cell_type": "markdown",
      "metadata": {
        "id": "QCZQ-XNJ1ONU"
      },
      "source": [
        "## Print Formatting\n",
        "\n",
        "Print Formatting \".format()\" method is used to add formatted objects to the printed string statements. \n",
        "\n",
        "Let's see an example to clearly understand the concept. "
      ]
    },
    {
      "cell_type": "code",
      "execution_count": null,
      "metadata": {
        "scrolled": true,
        "id": "MXfXPjP81ONU"
      },
      "outputs": [],
      "source": []
    },
    {
      "cell_type": "markdown",
      "metadata": {
        "id": "_kZGjVZV1ONU"
      },
      "source": [
        "## Location and Counting"
      ]
    },
    {
      "cell_type": "code",
      "execution_count": 54,
      "metadata": {
        "colab": {
          "base_uri": "https://localhost:8080/"
        },
        "id": "sjkAKfLm1ONU",
        "outputId": "2ab37a36-379f-4d92-cd5c-f76afbdf87c6"
      },
      "outputs": [
        {
          "output_type": "stream",
          "name": "stdout",
          "text": [
            "hello world\n"
          ]
        },
        {
          "output_type": "execute_result",
          "data": {
            "text/plain": [
              "2"
            ]
          },
          "metadata": {},
          "execution_count": 54
        }
      ],
      "source": [
        "print(s)\n",
        "s.count('o')"
      ]
    },
    {
      "cell_type": "code",
      "execution_count": 55,
      "metadata": {
        "colab": {
          "base_uri": "https://localhost:8080/"
        },
        "id": "cxWpzZDz1ONV",
        "outputId": "1a1eceac-901b-4a87-85c0-6ba9a6e2f42a"
      },
      "outputs": [
        {
          "output_type": "execute_result",
          "data": {
            "text/plain": [
              "4"
            ]
          },
          "metadata": {},
          "execution_count": 55
        }
      ],
      "source": [
        "s.find('o')"
      ]
    },
    {
      "cell_type": "markdown",
      "metadata": {
        "id": "kwhBkaNE1ONV"
      },
      "source": [
        "##Formatting\n",
        "The center() method allows you to place your string 'centered' between a provided string with a certain length. "
      ]
    },
    {
      "cell_type": "code",
      "execution_count": null,
      "metadata": {
        "id": "Lqhbr2AI1ONV"
      },
      "outputs": [],
      "source": []
    },
    {
      "cell_type": "markdown",
      "metadata": {
        "id": "9YtSTbcm1ONV"
      },
      "source": [
        "expandtabs() will expand tab notations \\t into spaces. Let's see an example to understand the concept."
      ]
    },
    {
      "cell_type": "code",
      "execution_count": 57,
      "metadata": {
        "colab": {
          "base_uri": "https://localhost:8080/",
          "height": 36
        },
        "id": "5allVJSa1ONV",
        "outputId": "4ba6ccae-d203-40a9-b73d-aced19a6fa83"
      },
      "outputs": [
        {
          "output_type": "execute_result",
          "data": {
            "text/plain": [
              "'hello   world'"
            ],
            "application/vnd.google.colaboratory.intrinsic+json": {
              "type": "string"
            }
          },
          "metadata": {},
          "execution_count": 57
        }
      ],
      "source": [
        "\"hello\\tworld\".expandtabs()"
      ]
    },
    {
      "cell_type": "markdown",
      "metadata": {
        "id": "xQzZnv161ONW"
      },
      "source": [
        "## is check methods\n",
        "These various methods below check it the string is some case. Lets explore them:"
      ]
    },
    {
      "cell_type": "code",
      "execution_count": 61,
      "metadata": {
        "colab": {
          "base_uri": "https://localhost:8080/",
          "height": 36
        },
        "id": "feJkpWpU1ONW",
        "outputId": "a61df7cf-19cf-410f-bc97-4cb068378f7a"
      },
      "outputs": [
        {
          "output_type": "execute_result",
          "data": {
            "text/plain": [
              "'hello'"
            ],
            "application/vnd.google.colaboratory.intrinsic+json": {
              "type": "string"
            }
          },
          "metadata": {},
          "execution_count": 61
        }
      ],
      "source": [
        "s = 'hello'\n",
        "s"
      ]
    },
    {
      "cell_type": "markdown",
      "metadata": {
        "id": "al_Nxh6c1ONW"
      },
      "source": [
        "isalnum() will return \"True\" if all characters in S are alphanumeric."
      ]
    },
    {
      "cell_type": "code",
      "execution_count": 66,
      "metadata": {
        "colab": {
          "base_uri": "https://localhost:8080/"
        },
        "id": "SKTqZ7iW1ONW",
        "outputId": "6c36ec39-7a6d-40bc-d39a-e188daedc92f"
      },
      "outputs": [
        {
          "output_type": "execute_result",
          "data": {
            "text/plain": [
              "True"
            ]
          },
          "metadata": {},
          "execution_count": 66
        }
      ],
      "source": [
        "s.isalnum()"
      ]
    },
    {
      "cell_type": "markdown",
      "metadata": {
        "id": "YMPAhQkE1ONW"
      },
      "source": [
        "# isalpha() wil return \"True\" if all characters in S are alphabetic."
      ]
    },
    {
      "cell_type": "code",
      "execution_count": 67,
      "metadata": {
        "colab": {
          "base_uri": "https://localhost:8080/"
        },
        "id": "JZqbLYT11ONX",
        "outputId": "1e28f4b3-43a0-42f7-acf2-b8dd51fe7c23"
      },
      "outputs": [
        {
          "output_type": "execute_result",
          "data": {
            "text/plain": [
              "True"
            ]
          },
          "metadata": {},
          "execution_count": 67
        }
      ],
      "source": [
        "s.isalpha()"
      ]
    },
    {
      "cell_type": "markdown",
      "metadata": {
        "id": "779WNnw21ONX"
      },
      "source": [
        "islower() will return \"True\" if all cased characters in S are lowercase and there is\n",
        "at least one cased character in S, False otherwise."
      ]
    },
    {
      "cell_type": "code",
      "execution_count": 68,
      "metadata": {
        "colab": {
          "base_uri": "https://localhost:8080/"
        },
        "id": "o1JW78iK1ONX",
        "outputId": "aedf5365-4458-4292-93f8-1d13926349f3"
      },
      "outputs": [
        {
          "output_type": "execute_result",
          "data": {
            "text/plain": [
              "True"
            ]
          },
          "metadata": {},
          "execution_count": 68
        }
      ],
      "source": [
        "s.islower()"
      ]
    },
    {
      "cell_type": "markdown",
      "metadata": {
        "id": "MqjXrwrM1ONX"
      },
      "source": [
        "isspace() will return \"True\" if all characters in S are whitespace."
      ]
    },
    {
      "cell_type": "code",
      "execution_count": 69,
      "metadata": {
        "colab": {
          "base_uri": "https://localhost:8080/"
        },
        "id": "G1idFU241ONY",
        "outputId": "f51012ae-6d74-4119-aa93-ce8dec9daa10"
      },
      "outputs": [
        {
          "output_type": "execute_result",
          "data": {
            "text/plain": [
              "False"
            ]
          },
          "metadata": {},
          "execution_count": 69
        }
      ],
      "source": [
        "s.isspace()"
      ]
    },
    {
      "cell_type": "markdown",
      "metadata": {
        "id": "RykVlFil1ONY"
      },
      "source": [
        "istitle() will return \"True\" if S is a title cased string and there is at least one character in S, i.e. uppercase characters may only follow uncased characters and lowercase characters only cased ones. Return False otherwise."
      ]
    },
    {
      "cell_type": "code",
      "execution_count": 70,
      "metadata": {
        "colab": {
          "base_uri": "https://localhost:8080/"
        },
        "id": "tB2LDOca1ONY",
        "outputId": "8a6e17c4-f628-41f0-90e0-1129af7bc352"
      },
      "outputs": [
        {
          "output_type": "execute_result",
          "data": {
            "text/plain": [
              "False"
            ]
          },
          "metadata": {},
          "execution_count": 70
        }
      ],
      "source": [
        "s.istitle()"
      ]
    },
    {
      "cell_type": "markdown",
      "metadata": {
        "id": "0Jo1vx_31ONY"
      },
      "source": [
        "isupper() will return \"True\" if all cased characters in S are uppercase and there is\n",
        "at least one cased character in S, False otherwise."
      ]
    },
    {
      "cell_type": "code",
      "execution_count": 71,
      "metadata": {
        "colab": {
          "base_uri": "https://localhost:8080/"
        },
        "id": "Pgl-Es8l1ONZ",
        "outputId": "fa63e11a-c8bc-47bd-d45b-403747153a97"
      },
      "outputs": [
        {
          "output_type": "execute_result",
          "data": {
            "text/plain": [
              "False"
            ]
          },
          "metadata": {},
          "execution_count": 71
        }
      ],
      "source": [
        "s.isupper()"
      ]
    },
    {
      "cell_type": "markdown",
      "metadata": {
        "id": "AhVNyonr1ONZ"
      },
      "source": [
        "Another method is endswith() which is essentially same as a boolean check on s[-1]"
      ]
    },
    {
      "cell_type": "code",
      "execution_count": null,
      "metadata": {
        "id": "j9vmflas1ONZ"
      },
      "outputs": [],
      "source": []
    },
    {
      "cell_type": "markdown",
      "metadata": {
        "id": "qLAUm0bV1ONZ"
      },
      "source": [
        "## Built-in Reg. Expressions\n",
        "\n",
        "In Strings, there are some built-in methods which is similar to regular expression operations.\n",
        "•\tSplit() function is used to split the string at a certain element and return a list of the result.\n",
        "•\tPartition is used to return a tuple that includes the separator (the first occurrence), the first half and the end half."
      ]
    },
    {
      "cell_type": "code",
      "execution_count": 72,
      "metadata": {
        "colab": {
          "base_uri": "https://localhost:8080/"
        },
        "id": "p32aW78x1ONZ",
        "outputId": "109cb8dc-bd9a-4781-c6e2-7aa06e31a7dc"
      },
      "outputs": [
        {
          "output_type": "execute_result",
          "data": {
            "text/plain": [
              "['h', 'llo']"
            ]
          },
          "metadata": {},
          "execution_count": 72
        }
      ],
      "source": [
        "s.split('e')"
      ]
    },
    {
      "cell_type": "code",
      "execution_count": 73,
      "metadata": {
        "colab": {
          "base_uri": "https://localhost:8080/"
        },
        "id": "O3nq7wRM1ONa",
        "outputId": "1b98ef47-c21d-4307-8f7b-6142618052ec"
      },
      "outputs": [
        {
          "output_type": "execute_result",
          "data": {
            "text/plain": [
              "('h', 'e', 'llo')"
            ]
          },
          "metadata": {},
          "execution_count": 73
        }
      ],
      "source": [
        "s.partition('e')"
      ]
    },
    {
      "cell_type": "code",
      "execution_count": 74,
      "metadata": {
        "colab": {
          "base_uri": "https://localhost:8080/",
          "height": 36
        },
        "id": "1q5xmBL11ONa",
        "outputId": "7633535f-cc51-43c0-8b14-9e159dd55edc"
      },
      "outputs": [
        {
          "output_type": "execute_result",
          "data": {
            "text/plain": [
              "'hello'"
            ],
            "application/vnd.google.colaboratory.intrinsic+json": {
              "type": "string"
            }
          },
          "metadata": {},
          "execution_count": 74
        }
      ],
      "source": [
        "s"
      ]
    },
    {
      "cell_type": "markdown",
      "metadata": {
        "id": "h-pVkvfr1ONa"
      },
      "source": [
        "# Lists\n",
        "\n",
        "Earlier, while discussing introduction to strings we have introduced the concept of a *sequence* in Python. In Python, Lists can be considered as the most general version of a \"sequence\". Unlike strings, they are mutable which means the elements inside a list can be changed!\n",
        "\n",
        "Lists are constructed with brackets [] and commas separating every element in the list.\n",
        "\n",
        "Let's go ahead and see how we can construct lists!"
      ]
    },
    {
      "cell_type": "code",
      "execution_count": 75,
      "metadata": {
        "id": "4h2Abmd31ONa"
      },
      "outputs": [],
      "source": [
        "# Assign a list to an variable named my_list\n",
        "my_list = [1, 2, 3]"
      ]
    },
    {
      "cell_type": "markdown",
      "metadata": {
        "id": "fS7IFWk31ONa"
      },
      "source": [
        "We just created a list of integers, but lists can actually hold different object types. For example:"
      ]
    },
    {
      "cell_type": "code",
      "execution_count": null,
      "metadata": {
        "id": "TMjdbTXL1ONb"
      },
      "outputs": [],
      "source": []
    },
    {
      "cell_type": "markdown",
      "metadata": {
        "id": "lT9Jwv2J1ONb"
      },
      "source": [
        "Just like strings, the len() function will tell you how many items are in the sequence of the list."
      ]
    },
    {
      "cell_type": "code",
      "execution_count": 76,
      "metadata": {
        "colab": {
          "base_uri": "https://localhost:8080/"
        },
        "id": "Z-uDOHg61ONb",
        "outputId": "c176fd38-324b-4f4d-eedd-978d2eb63cc8"
      },
      "outputs": [
        {
          "output_type": "execute_result",
          "data": {
            "text/plain": [
              "3"
            ]
          },
          "metadata": {},
          "execution_count": 76
        }
      ],
      "source": [
        "len(my_list)"
      ]
    },
    {
      "cell_type": "markdown",
      "metadata": {
        "id": "lsLUMPh81ONb"
      },
      "source": [
        "### Indexing and Slicing\n",
        "Indexing and slicing of lists works just like in Strings. Let's make a new list to remind ourselves of how this works:"
      ]
    },
    {
      "cell_type": "code",
      "execution_count": 84,
      "metadata": {
        "colab": {
          "base_uri": "https://localhost:8080/"
        },
        "id": "YJHup8-c1ONb",
        "outputId": "ca79e2f7-f543-45b5-9944-131ed54c5d9f"
      },
      "outputs": [
        {
          "output_type": "execute_result",
          "data": {
            "text/plain": [
              "['a', 'v', 1, 2, 8]"
            ]
          },
          "metadata": {},
          "execution_count": 84
        }
      ],
      "source": [
        "s= ['a', 'v', 1, 2, 8]\n",
        "s"
      ]
    },
    {
      "cell_type": "code",
      "execution_count": 85,
      "metadata": {
        "colab": {
          "base_uri": "https://localhost:8080/",
          "height": 36
        },
        "id": "63zHe1J41ONc",
        "outputId": "f153fb26-84d6-4a9e-8c23-5c2c6a53a344"
      },
      "outputs": [
        {
          "output_type": "execute_result",
          "data": {
            "text/plain": [
              "'a'"
            ],
            "application/vnd.google.colaboratory.intrinsic+json": {
              "type": "string"
            }
          },
          "metadata": {},
          "execution_count": 85
        }
      ],
      "source": [
        "# Grab element at index 0\n",
        "s[0]"
      ]
    },
    {
      "cell_type": "code",
      "execution_count": 86,
      "metadata": {
        "colab": {
          "base_uri": "https://localhost:8080/"
        },
        "id": "kbwG9LSd1ONc",
        "outputId": "a849a26e-9292-496d-df99-57edd2b3f8c8"
      },
      "outputs": [
        {
          "output_type": "execute_result",
          "data": {
            "text/plain": [
              "['v', 1, 2, 8]"
            ]
          },
          "metadata": {},
          "execution_count": 86
        }
      ],
      "source": [
        "# Grab index 1 and everything past it\n",
        "s[1:]"
      ]
    },
    {
      "cell_type": "code",
      "execution_count": 87,
      "metadata": {
        "colab": {
          "base_uri": "https://localhost:8080/"
        },
        "id": "p4zwTyVl1ONc",
        "outputId": "2c3d28df-59b3-4c44-b24f-dec286f71567"
      },
      "outputs": [
        {
          "output_type": "execute_result",
          "data": {
            "text/plain": [
              "['a', 'v', 1]"
            ]
          },
          "metadata": {},
          "execution_count": 87
        }
      ],
      "source": [
        "# Grab everything UP TO index 3\n",
        "s[:3]"
      ]
    },
    {
      "cell_type": "markdown",
      "metadata": {
        "id": "HjEmJXmA1ONc"
      },
      "source": [
        "We can also use \"+\" to concatenate lists, just like we did for Strings."
      ]
    },
    {
      "cell_type": "code",
      "execution_count": 88,
      "metadata": {
        "colab": {
          "base_uri": "https://localhost:8080/"
        },
        "id": "NGtya19G1ONd",
        "outputId": "55ac7223-e288-40ae-a531-50d925763ddc"
      },
      "outputs": [
        {
          "output_type": "execute_result",
          "data": {
            "text/plain": [
              "['a', 'v', 1, 2, 8, 'fb']"
            ]
          },
          "metadata": {},
          "execution_count": 88
        }
      ],
      "source": [
        "s + ['fb']"
      ]
    },
    {
      "cell_type": "markdown",
      "metadata": {
        "id": "dWUrHs8L1ONd"
      },
      "source": [
        "Note: This doesn't actually change the original list!"
      ]
    },
    {
      "cell_type": "code",
      "execution_count": 89,
      "metadata": {
        "colab": {
          "base_uri": "https://localhost:8080/"
        },
        "id": "OCbimU6t1ONd",
        "outputId": "e9d2d5f3-01e5-474d-d761-f86c326ac70c"
      },
      "outputs": [
        {
          "output_type": "execute_result",
          "data": {
            "text/plain": [
              "['a', 'v', 1, 2, 8]"
            ]
          },
          "metadata": {},
          "execution_count": 89
        }
      ],
      "source": [
        "s"
      ]
    },
    {
      "cell_type": "markdown",
      "metadata": {
        "id": "Qq-ReEm41ONd"
      },
      "source": [
        "In this case, you have to reassign the list to make the permanent change."
      ]
    },
    {
      "cell_type": "code",
      "execution_count": 91,
      "metadata": {
        "colab": {
          "base_uri": "https://localhost:8080/"
        },
        "id": "XjmJGojs1ONd",
        "outputId": "9f9361cf-d472-4897-9662-82ac955ee97d"
      },
      "outputs": [
        {
          "output_type": "execute_result",
          "data": {
            "text/plain": [
              "['a', 'v', 1, 2, 8, 'fb', 'fb']"
            ]
          },
          "metadata": {},
          "execution_count": 91
        }
      ],
      "source": [
        "# Reassign\n",
        "s= s + ['fb']\n",
        "s"
      ]
    },
    {
      "cell_type": "code",
      "execution_count": 80,
      "metadata": {
        "id": "XqxsFbOW1ONe"
      },
      "outputs": [],
      "source": []
    },
    {
      "cell_type": "markdown",
      "metadata": {
        "id": "uGkrK1om1ONe"
      },
      "source": [
        "We can also use the * for a duplication method similar to strings:"
      ]
    },
    {
      "cell_type": "code",
      "execution_count": 93,
      "metadata": {
        "colab": {
          "base_uri": "https://localhost:8080/"
        },
        "id": "7RXBzxvj1ONe",
        "outputId": "1da580e7-3065-4239-c0b4-45361916407d"
      },
      "outputs": [
        {
          "output_type": "execute_result",
          "data": {
            "text/plain": [
              "['a', 'v', 1, 2, 8, 'fb', 'fb', 'a', 'v', 1, 2, 8, 'fb', 'fb']"
            ]
          },
          "metadata": {},
          "execution_count": 93
        }
      ],
      "source": [
        "# Make the list double\n",
        "s * 2"
      ]
    },
    {
      "cell_type": "code",
      "execution_count": 94,
      "metadata": {
        "colab": {
          "base_uri": "https://localhost:8080/"
        },
        "id": "h6s8D-Pz1ONe",
        "outputId": "64b7801e-97c8-4caa-fff3-d9b6b09b47d6"
      },
      "outputs": [
        {
          "output_type": "execute_result",
          "data": {
            "text/plain": [
              "['a', 'v', 1, 2, 8, 'fb', 'fb']"
            ]
          },
          "metadata": {},
          "execution_count": 94
        }
      ],
      "source": [
        "# Again doubling not permanent\n",
        "s"
      ]
    },
    {
      "cell_type": "markdown",
      "metadata": {
        "id": "VSviYgCd1ONf"
      },
      "source": [
        "## Basic List Methods\n",
        "\n",
        "If you are familiar with another programming language, start to draw parallels between lists in Python and arrays in other language. There are two reasons which tells why the lists in Python are more flexible than arrays in other programming language:\n",
        "\n",
        "a. They have no fixed size (which means we need not to specify how big the list will be)\n",
        "b. They have no fixed type constraint \n",
        "\n",
        "Let's go ahead and explore some more special methods for lists:"
      ]
    },
    {
      "cell_type": "code",
      "execution_count": 95,
      "metadata": {
        "id": "9n2C4n6l1ONf"
      },
      "outputs": [],
      "source": [
        "# Create a new list\n",
        "l=[1,2,3]"
      ]
    },
    {
      "cell_type": "markdown",
      "metadata": {
        "id": "ZkgLa8ZC1ONf"
      },
      "source": [
        "Use the **append** method to permanently add an item to the end of a list:"
      ]
    },
    {
      "cell_type": "code",
      "execution_count": 96,
      "metadata": {
        "id": "SLgCkvOE1ONf"
      },
      "outputs": [],
      "source": [
        "# Append\n",
        "l.append('Hi')"
      ]
    },
    {
      "cell_type": "code",
      "execution_count": 97,
      "metadata": {
        "colab": {
          "base_uri": "https://localhost:8080/"
        },
        "id": "-pSNB_2q1ONg",
        "outputId": "c2f931bf-1d8b-4a47-9dbf-3385a1229f11"
      },
      "outputs": [
        {
          "output_type": "execute_result",
          "data": {
            "text/plain": [
              "[1, 2, 3, 'Hi']"
            ]
          },
          "metadata": {},
          "execution_count": 97
        }
      ],
      "source": [
        "# Show\n",
        "l"
      ]
    },
    {
      "cell_type": "markdown",
      "metadata": {
        "id": "hUUHzwRh1ONg"
      },
      "source": [
        "Use **pop** to \"pop off\" an item from the list. By default pop takes off the last index, but you can also specify which index to pop off. Let's see an example:"
      ]
    },
    {
      "cell_type": "code",
      "execution_count": 98,
      "metadata": {
        "colab": {
          "base_uri": "https://localhost:8080/"
        },
        "id": "uljnfP4Z1ONg",
        "outputId": "09cdb6cc-a821-4e13-ba70-b3510a121dff"
      },
      "outputs": [
        {
          "output_type": "execute_result",
          "data": {
            "text/plain": [
              "1"
            ]
          },
          "metadata": {},
          "execution_count": 98
        }
      ],
      "source": [
        "# Pop off the 0 indexed item\n",
        "l.pop(0)"
      ]
    },
    {
      "cell_type": "code",
      "execution_count": 99,
      "metadata": {
        "colab": {
          "base_uri": "https://localhost:8080/"
        },
        "id": "28NaVlQd1ONh",
        "outputId": "a7be40af-d254-48c7-d80c-2133c83d0f4f"
      },
      "outputs": [
        {
          "output_type": "execute_result",
          "data": {
            "text/plain": [
              "[2, 3, 'Hi']"
            ]
          },
          "metadata": {},
          "execution_count": 99
        }
      ],
      "source": [
        "# Show\n",
        "l"
      ]
    },
    {
      "cell_type": "code",
      "execution_count": null,
      "metadata": {
        "id": "aIk-lbFP1ONh"
      },
      "outputs": [],
      "source": [
        "# Assign the popped element, remember default popped index is -1\n"
      ]
    },
    {
      "cell_type": "code",
      "execution_count": null,
      "metadata": {
        "id": "4kgzyvJk1ONh"
      },
      "outputs": [],
      "source": []
    },
    {
      "cell_type": "code",
      "execution_count": null,
      "metadata": {
        "id": "t_AWks_a1ONh"
      },
      "outputs": [],
      "source": [
        "# Show remaining list\n"
      ]
    },
    {
      "cell_type": "markdown",
      "metadata": {
        "id": "5NyUobHx1ONi"
      },
      "source": [
        "Note that lists indexing will return an error if there is no element at that index. For example:"
      ]
    },
    {
      "cell_type": "code",
      "execution_count": 101,
      "metadata": {
        "id": "NitN3RrE1ONi"
      },
      "outputs": [],
      "source": [
        "l = ['w', 'e', 'r', 'h']"
      ]
    },
    {
      "cell_type": "markdown",
      "metadata": {
        "id": "bj4WjWdx1ONi"
      },
      "source": [
        "We can use the **sort** method and the **reverse** methods to also effect your lists:"
      ]
    },
    {
      "cell_type": "code",
      "execution_count": 102,
      "metadata": {
        "id": "J1H-QhIA1ONi"
      },
      "outputs": [],
      "source": [
        "l.sort()"
      ]
    },
    {
      "cell_type": "code",
      "execution_count": 103,
      "metadata": {
        "colab": {
          "base_uri": "https://localhost:8080/"
        },
        "id": "g5qs6Q4X1ONi",
        "outputId": "9883fc09-b121-488e-ac34-768129100242"
      },
      "outputs": [
        {
          "output_type": "execute_result",
          "data": {
            "text/plain": [
              "['e', 'h', 'r', 'w']"
            ]
          },
          "metadata": {},
          "execution_count": 103
        }
      ],
      "source": [
        "#Show\n",
        "l"
      ]
    },
    {
      "cell_type": "code",
      "execution_count": 104,
      "metadata": {
        "id": "MzvaKfhQ1ONj"
      },
      "outputs": [],
      "source": [
        "# Use reverse to reverse order (this is permanent!)\n",
        "l.reverse()"
      ]
    },
    {
      "cell_type": "code",
      "execution_count": 105,
      "metadata": {
        "colab": {
          "base_uri": "https://localhost:8080/"
        },
        "id": "NpOjMYyi1ONj",
        "outputId": "ebc53f69-821e-4502-c743-c32f01cf508c"
      },
      "outputs": [
        {
          "output_type": "execute_result",
          "data": {
            "text/plain": [
              "['w', 'r', 'h', 'e']"
            ]
          },
          "metadata": {},
          "execution_count": 105
        }
      ],
      "source": [
        "l"
      ]
    },
    {
      "cell_type": "code",
      "execution_count": null,
      "metadata": {
        "id": "LLnS8Wsl1ONj"
      },
      "outputs": [],
      "source": [
        "# Use sort to sort the list (in this case alphabetical order, but for numbers it will go ascending)\n"
      ]
    },
    {
      "cell_type": "code",
      "execution_count": null,
      "metadata": {
        "id": "uxV3gnwU1ONj"
      },
      "outputs": [],
      "source": []
    },
    {
      "cell_type": "markdown",
      "metadata": {
        "id": "E6VXOlO61ONk"
      },
      "source": [
        "## Nesting Lists\n",
        "\n",
        "Nesting Lists is one of the great features in Python data structures. Nesting Lists means we can have data structures within data structures. \n",
        "\n",
        "For example: A list inside a list.\n",
        "\n",
        "Let's see how Nesting lists works!"
      ]
    },
    {
      "cell_type": "code",
      "execution_count": 107,
      "metadata": {
        "id": "mIX-DabI1ONk"
      },
      "outputs": [],
      "source": [
        "# Let's make three lists\n",
        "a1=[1,3,7]\n",
        "a2=[2,5,8]\n",
        "a3=[1,4,6]\n",
        "# Make a list of lists to form a matrix\n",
        "matrix=[a1,a2,a3]"
      ]
    },
    {
      "cell_type": "code",
      "execution_count": 108,
      "metadata": {
        "colab": {
          "base_uri": "https://localhost:8080/"
        },
        "id": "48zALJcn1ONk",
        "outputId": "94fcb439-b771-484c-8be6-9e4a37fd7a16"
      },
      "outputs": [
        {
          "output_type": "execute_result",
          "data": {
            "text/plain": [
              "[[1, 3, 7], [2, 5, 8], [1, 4, 6]]"
            ]
          },
          "metadata": {},
          "execution_count": 108
        }
      ],
      "source": [
        "# Show\n",
        "matrix"
      ]
    },
    {
      "cell_type": "markdown",
      "metadata": {
        "id": "V21XkuVN1ONk"
      },
      "source": [
        "We can re-use indexing to grab elements, but now there are two levels for the index. \n",
        "\n",
        "a. The items in the matrix object\n",
        "b. The items inside the list"
      ]
    },
    {
      "cell_type": "code",
      "execution_count": 109,
      "metadata": {
        "colab": {
          "base_uri": "https://localhost:8080/"
        },
        "id": "V8bi3UL21ONl",
        "outputId": "84e7578e-1558-4303-813e-3adbc736cb47"
      },
      "outputs": [
        {
          "output_type": "execute_result",
          "data": {
            "text/plain": [
              "[2, 5, 8]"
            ]
          },
          "metadata": {},
          "execution_count": 109
        }
      ],
      "source": [
        "# Grab first item in matrix object\n",
        "matrix[1]"
      ]
    },
    {
      "cell_type": "code",
      "execution_count": 110,
      "metadata": {
        "colab": {
          "base_uri": "https://localhost:8080/"
        },
        "id": "1XjBpHEe1ONl",
        "outputId": "5f8f1202-15f4-4577-a2a7-5093066b7954"
      },
      "outputs": [
        {
          "output_type": "execute_result",
          "data": {
            "text/plain": [
              "1"
            ]
          },
          "metadata": {},
          "execution_count": 110
        }
      ],
      "source": [
        "# Grab first item of the first item in the matrix object\n",
        "matrix[0][0]"
      ]
    },
    {
      "cell_type": "markdown",
      "metadata": {
        "id": "2WAU4Z_t1ONm"
      },
      "source": [
        "# List Comprehensions\n",
        "\n",
        "Python has an advanced feature called list comprehensions which allows for quick construction of lists. \n",
        "\n",
        "Before we try to understand list comprehensions completely we need to understand \"for\" loops. \n",
        "\n",
        "So don't worry if you don't completely understand this section, and feel free to just skip it since we will return to this topic later.\n",
        "\n",
        "Here are few of oue examples which helps you to understand list comprehensions. "
      ]
    },
    {
      "cell_type": "code",
      "execution_count": 111,
      "metadata": {
        "id": "VQAcj_PZ1ONn"
      },
      "outputs": [],
      "source": [
        "# Build a list comprehension by deconstructing a for loop within a []\n",
        "first_col = [row[0] for row in matrix]"
      ]
    },
    {
      "cell_type": "code",
      "execution_count": 112,
      "metadata": {
        "colab": {
          "base_uri": "https://localhost:8080/"
        },
        "id": "jLHC0KVL1ONn",
        "outputId": "09b6c969-aee4-4db5-8fc5-14532f9bcbe8"
      },
      "outputs": [
        {
          "output_type": "execute_result",
          "data": {
            "text/plain": [
              "[1, 2, 1]"
            ]
          },
          "metadata": {},
          "execution_count": 112
        }
      ],
      "source": [
        "first_col"
      ]
    },
    {
      "cell_type": "markdown",
      "metadata": {
        "id": "Hw8HR6uB1ONo"
      },
      "source": [
        "# Advanced Lists\n",
        "\n",
        "In this series of lectures, we will be diving a little deeper into all the available methods in a list object. These are just methods that should encountered without some additional exploring. Its pretty likely that you've already encountered some of these yourself!\n",
        "\n",
        "Lets begin!"
      ]
    },
    {
      "cell_type": "code",
      "execution_count": 113,
      "metadata": {
        "id": "1qLW9N0g1ONo"
      },
      "outputs": [],
      "source": [
        "l=[1,2,5,3,8]"
      ]
    },
    {
      "cell_type": "markdown",
      "metadata": {
        "id": "dvquhUEb1ONp"
      },
      "source": [
        "## append\n",
        "\n",
        "Definitely, You have used this method by now, which merely appends an element to the end of a list:"
      ]
    },
    {
      "cell_type": "code",
      "execution_count": 115,
      "metadata": {
        "colab": {
          "base_uri": "https://localhost:8080/"
        },
        "id": "bFWZjP6n1ONp",
        "outputId": "e53a35e2-e32c-473a-a296-022159ba89ad"
      },
      "outputs": [
        {
          "output_type": "execute_result",
          "data": {
            "text/plain": [
              "[1, 2, 5, 3, 8, 9, 9]"
            ]
          },
          "metadata": {},
          "execution_count": 115
        }
      ],
      "source": [
        "l.append(9)\n",
        "l"
      ]
    },
    {
      "cell_type": "markdown",
      "metadata": {
        "id": "7EDasujH1ONp"
      },
      "source": [
        "## count\n",
        "We discussed this during the methods lectures, but here it is again. count() takes in an element and returns the number of times it occures in your list:"
      ]
    },
    {
      "cell_type": "code",
      "execution_count": 116,
      "metadata": {
        "colab": {
          "base_uri": "https://localhost:8080/"
        },
        "id": "2mdEK5pt1ONq",
        "outputId": "df872f3b-2df0-427b-f9a1-95e021265d4d"
      },
      "outputs": [
        {
          "output_type": "execute_result",
          "data": {
            "text/plain": [
              "0"
            ]
          },
          "metadata": {},
          "execution_count": 116
        }
      ],
      "source": [
        "l.count(6)"
      ]
    },
    {
      "cell_type": "code",
      "execution_count": 117,
      "metadata": {
        "colab": {
          "base_uri": "https://localhost:8080/"
        },
        "id": "STe45NKX1ONq",
        "outputId": "87cc324f-6d22-4692-c9fb-2ef66cf81389"
      },
      "outputs": [
        {
          "output_type": "execute_result",
          "data": {
            "text/plain": [
              "1"
            ]
          },
          "metadata": {},
          "execution_count": 117
        }
      ],
      "source": [
        "l.count(3)"
      ]
    },
    {
      "cell_type": "markdown",
      "metadata": {
        "id": "CL94uMIo1ONr"
      },
      "source": [
        "## extend\n",
        "Many times people find the difference between extend and append to be unclear. So note that,\n",
        "\n",
        "**append: Appends object at end**"
      ]
    },
    {
      "cell_type": "code",
      "execution_count": 120,
      "metadata": {
        "colab": {
          "base_uri": "https://localhost:8080/"
        },
        "id": "dA5mpOVI1ONr",
        "outputId": "137255eb-56e8-4527-a4ba-955088a9ec41"
      },
      "outputs": [
        {
          "output_type": "execute_result",
          "data": {
            "text/plain": [
              "[1, 2, 5, 3, 8, 9, 9, [3, 4]]"
            ]
          },
          "metadata": {},
          "execution_count": 120
        }
      ],
      "source": [
        "l.append([3,4])\n",
        "l"
      ]
    },
    {
      "cell_type": "markdown",
      "metadata": {
        "id": "Fdk-Gj3v1ONr"
      },
      "source": [
        "**extend: extends list by appending elements from the iterable**"
      ]
    },
    {
      "cell_type": "code",
      "execution_count": 123,
      "metadata": {
        "colab": {
          "base_uri": "https://localhost:8080/"
        },
        "id": "Kbxrhtp61ONs",
        "outputId": "6d92c76b-862d-4b4a-babc-90a6617b20d3"
      },
      "outputs": [
        {
          "output_type": "execute_result",
          "data": {
            "text/plain": [
              "[1, 2, 5, 3, 8, 9, 9, [3, 4], 3, 4, 3, 4, 3, 4]"
            ]
          },
          "metadata": {},
          "execution_count": 123
        }
      ],
      "source": [
        "l.extend([3,4,3,4])\n",
        "l"
      ]
    },
    {
      "cell_type": "markdown",
      "metadata": {
        "id": "RUmJW_0M1ONs"
      },
      "source": [
        "Note how extend append each element in that iterable. That is the key difference."
      ]
    },
    {
      "cell_type": "markdown",
      "metadata": {
        "id": "16qxd25P1ONs"
      },
      "source": [
        "## index\n",
        "\n",
        "index returns the element placed as an argument. Make a note that if the element is not in the list then it returns an error.\n"
      ]
    },
    {
      "cell_type": "code",
      "execution_count": 125,
      "metadata": {
        "colab": {
          "base_uri": "https://localhost:8080/"
        },
        "id": "BdseGMlu1ONt",
        "outputId": "67d593b0-ea64-4839-b894-459c51c0b971"
      },
      "outputs": [
        {
          "output_type": "stream",
          "name": "stdout",
          "text": [
            "[1, 2, 5, 3, 8, 9, 9, [3, 4], 3, 4, 3, 4, 3, 4]\n"
          ]
        },
        {
          "output_type": "execute_result",
          "data": {
            "text/plain": [
              "1"
            ]
          },
          "metadata": {},
          "execution_count": 125
        }
      ],
      "source": [
        "print(l)\n",
        "l.index(2)"
      ]
    },
    {
      "cell_type": "code",
      "execution_count": null,
      "metadata": {
        "id": "-SoifFpu1ONt"
      },
      "outputs": [],
      "source": []
    },
    {
      "cell_type": "markdown",
      "metadata": {
        "id": "cXNhcKoh1ONt"
      },
      "source": [
        "## insert \n",
        "\n",
        "Two arguments can be placed in insert method. \n",
        "\n",
        "Syntax: insert(index,object) \n",
        "\n",
        "This method places the object at the index supplied. For example:"
      ]
    },
    {
      "cell_type": "code",
      "execution_count": 126,
      "metadata": {
        "id": "JrJ2VO4m1ONu"
      },
      "outputs": [],
      "source": [
        "l=[1,2,4,6,8,9]"
      ]
    },
    {
      "cell_type": "code",
      "execution_count": 130,
      "metadata": {
        "colab": {
          "base_uri": "https://localhost:8080/"
        },
        "id": "dQrTUEkv1ONu",
        "outputId": "92353261-c70c-4823-ba5a-2439bf0f960b"
      },
      "outputs": [
        {
          "output_type": "execute_result",
          "data": {
            "text/plain": [
              "[1, 2, 4, 6, 8, 9]"
            ]
          },
          "metadata": {},
          "execution_count": 130
        }
      ],
      "source": [
        "# Place a letter at the index 2\n",
        "l.index(2)\n",
        "l"
      ]
    },
    {
      "cell_type": "code",
      "execution_count": null,
      "metadata": {
        "id": "q3nw2ecL1ONv"
      },
      "outputs": [],
      "source": []
    },
    {
      "cell_type": "markdown",
      "metadata": {
        "id": "K5AshcsK1ONv"
      },
      "source": [
        "## pop\n",
        "You most likely have already seen pop(), which allows us to \"pop\" off the last element of a list. "
      ]
    },
    {
      "cell_type": "code",
      "execution_count": 131,
      "metadata": {
        "id": "jzGKYTv71ONv"
      },
      "outputs": [],
      "source": [
        "ele=l.pop()"
      ]
    },
    {
      "cell_type": "code",
      "execution_count": 132,
      "metadata": {
        "colab": {
          "base_uri": "https://localhost:8080/"
        },
        "id": "oQbqhWRr1ONw",
        "outputId": "5889e173-9cf3-40fe-9f82-73d05207f9bc"
      },
      "outputs": [
        {
          "output_type": "execute_result",
          "data": {
            "text/plain": [
              "[1, 2, 4, 6, 8]"
            ]
          },
          "metadata": {},
          "execution_count": 132
        }
      ],
      "source": [
        "l"
      ]
    },
    {
      "cell_type": "code",
      "execution_count": 133,
      "metadata": {
        "colab": {
          "base_uri": "https://localhost:8080/"
        },
        "id": "5B6b8TkL1ONw",
        "outputId": "706295a7-7f3f-4fa4-9c59-77b5be160b1e"
      },
      "outputs": [
        {
          "output_type": "execute_result",
          "data": {
            "text/plain": [
              "9"
            ]
          },
          "metadata": {},
          "execution_count": 133
        }
      ],
      "source": [
        "ele"
      ]
    },
    {
      "cell_type": "markdown",
      "metadata": {
        "id": "BfquIiPt1ONw"
      },
      "source": [
        "## remove\n",
        "The remove() method removes the first occurrence of a value. For example:"
      ]
    },
    {
      "cell_type": "code",
      "execution_count": 134,
      "metadata": {
        "colab": {
          "base_uri": "https://localhost:8080/"
        },
        "id": "rKvJQ4T51ONy",
        "outputId": "f07393ec-5da9-4fe5-8f4a-56639c70761c"
      },
      "outputs": [
        {
          "output_type": "execute_result",
          "data": {
            "text/plain": [
              "[1, 2, 4, 6, 8]"
            ]
          },
          "metadata": {},
          "execution_count": 134
        }
      ],
      "source": [
        "l"
      ]
    },
    {
      "cell_type": "code",
      "execution_count": 141,
      "metadata": {
        "id": "51F4SXNy1ONy"
      },
      "outputs": [],
      "source": [
        "l.remove(2)"
      ]
    },
    {
      "cell_type": "code",
      "execution_count": 142,
      "metadata": {
        "colab": {
          "base_uri": "https://localhost:8080/"
        },
        "id": "ALTy-t9k1ONz",
        "outputId": "257e934b-db89-42bc-a73f-7b2db79c755e"
      },
      "outputs": [
        {
          "output_type": "execute_result",
          "data": {
            "text/plain": [
              "[1, 4, 6, 8]"
            ]
          },
          "metadata": {},
          "execution_count": 142
        }
      ],
      "source": [
        "l"
      ]
    },
    {
      "cell_type": "code",
      "execution_count": null,
      "metadata": {
        "id": "8_Ei9mc61ONz"
      },
      "outputs": [],
      "source": []
    },
    {
      "cell_type": "code",
      "execution_count": null,
      "metadata": {
        "id": "AJ_ADKCY1ONz"
      },
      "outputs": [],
      "source": []
    },
    {
      "cell_type": "code",
      "execution_count": null,
      "metadata": {
        "id": "lmeGIYda1ONz"
      },
      "outputs": [],
      "source": []
    },
    {
      "cell_type": "markdown",
      "metadata": {
        "id": "1777YkOO1ON0"
      },
      "source": [
        "## reverse\n",
        "As the name suggests, reverse() helps you to reverse a list. Note this occurs in place! Meaning it effects your list permanently."
      ]
    },
    {
      "cell_type": "code",
      "execution_count": 143,
      "metadata": {
        "colab": {
          "base_uri": "https://localhost:8080/"
        },
        "id": "wRjCVa3r1ON0",
        "outputId": "064fc9db-652e-4afd-84f8-f289685d9035"
      },
      "outputs": [
        {
          "output_type": "execute_result",
          "data": {
            "text/plain": [
              "[8, 6, 4, 1]"
            ]
          },
          "metadata": {},
          "execution_count": 143
        }
      ],
      "source": [
        "l.reverse()\n",
        "l"
      ]
    },
    {
      "cell_type": "code",
      "execution_count": null,
      "metadata": {
        "id": "wN-XXWXi1ON0"
      },
      "outputs": [],
      "source": []
    },
    {
      "cell_type": "markdown",
      "metadata": {
        "id": "Y5e8R6kn1ON0"
      },
      "source": [
        "## sort\n",
        "sort will sort your list in place:"
      ]
    },
    {
      "cell_type": "code",
      "execution_count": 144,
      "metadata": {
        "colab": {
          "base_uri": "https://localhost:8080/"
        },
        "id": "7uYQqE5v1ON1",
        "outputId": "272d6714-4020-4608-c492-bdf703255fb1"
      },
      "outputs": [
        {
          "output_type": "execute_result",
          "data": {
            "text/plain": [
              "[1, 4, 6, 8]"
            ]
          },
          "metadata": {},
          "execution_count": 144
        }
      ],
      "source": [
        "l.sort()\n",
        "l"
      ]
    },
    {
      "cell_type": "code",
      "execution_count": null,
      "metadata": {
        "id": "pd0iu2621ON1"
      },
      "outputs": [],
      "source": []
    },
    {
      "cell_type": "code",
      "execution_count": null,
      "metadata": {
        "id": "eE3OzyD71ON1"
      },
      "outputs": [],
      "source": []
    },
    {
      "cell_type": "code",
      "execution_count": null,
      "metadata": {
        "id": "ivGRHyfa1ON1"
      },
      "outputs": [],
      "source": []
    }
  ],
  "metadata": {
    "kernelspec": {
      "display_name": "Python 3",
      "language": "python",
      "name": "python3"
    },
    "language_info": {
      "codemirror_mode": {
        "name": "ipython",
        "version": 3
      },
      "file_extension": ".py",
      "mimetype": "text/x-python",
      "name": "python",
      "nbconvert_exporter": "python",
      "pygments_lexer": "ipython3",
      "version": "3.7.3"
    },
    "colab": {
      "provenance": [],
      "collapsed_sections": []
    }
  },
  "nbformat": 4,
  "nbformat_minor": 0
}