{
  "cells": [
    {
      "cell_type": "markdown",
      "metadata": {
        "id": "lPo_mOul_UGC"
      },
      "source": [
        "# Object Oriented Programming and File I/O"
      ]
    },
    {
      "cell_type": "markdown",
      "metadata": {
        "id": "l9CDVOyp_UGH"
      },
      "source": [
        "__Object Oriented Programming (OOP)__ is a programming paradigm that allows abstraction through the concept of interacting entities. This programming works contradictory to conventional model and is procedural, in which programs are organized as a sequence of commands or statements to perform.\n",
        "\n",
        "We can think an object as an entity that resides in memory, has a state and it's able to perform some actions. \n",
        " \n",
        "More formally objects are entities that represent **instances** of a general abstract concept called **class**. In `Python`, \"attributes\" are the variables defining an object state and the possible actions are called \"methods\".\n",
        "\n",
        "In Python, everything is an object also classes and functions."
      ]
    },
    {
      "cell_type": "markdown",
      "metadata": {
        "id": "4qVnXKXt_UGJ"
      },
      "source": [
        "## 1 How to define classes"
      ]
    },
    {
      "cell_type": "markdown",
      "metadata": {
        "id": "FjhZIzRj_UGK"
      },
      "source": [
        "### 1.1 Creating a class"
      ]
    },
    {
      "cell_type": "markdown",
      "metadata": {
        "id": "JcQXhJaN_UGK"
      },
      "source": [
        "Suppose we want to create a class, named Person, as a prototype, a sort of template for any number of 'Person' objects (instances)."
      ]
    },
    {
      "cell_type": "markdown",
      "metadata": {
        "id": "oDSSxL2Y_UGL"
      },
      "source": [
        "The following python syntax defines a class:\n",
        "\n",
        "    class ClassName(base_classes):\n",
        "        statements\n",
        "\n",
        "        "
      ]
    },
    {
      "cell_type": "markdown",
      "metadata": {
        "id": "wOdGvb1-_UGL"
      },
      "source": [
        "Class names should always be uppercase (it's a naming convention)."
      ]
    },
    {
      "cell_type": "markdown",
      "metadata": {
        "id": "mgZD-kTx_UGM"
      },
      "source": [
        "Say we need to model a Person as:\n",
        "\n",
        "* Name\n",
        "* Surname  \n",
        "* Age  "
      ]
    },
    {
      "cell_type": "code",
      "execution_count": 2,
      "metadata": {
        "colab": {
          "base_uri": "https://localhost:8080/"
        },
        "id": "NO3RKdLR_UGM",
        "outputId": "50e6738b-dd89-45d8-b98c-ed62a95d89a9"
      },
      "outputs": [
        {
          "output_type": "stream",
          "name": "stdout",
          "text": [
            "<__main__.Person object at 0x7f131595af90>\n",
            "Sandeep kumar was born on 28102001.\n"
          ]
        }
      ],
      "source": [
        "class Person:\n",
        "    pass\n",
        "\n",
        "sandy = Person()\n",
        "sandy.name = \"Sandeep\"\n",
        "sandy.surname = \"kumar\"\n",
        "sandy.DOB = 28102001\n",
        "\n",
        "print(sandy)\n",
        "print(\"%s %s was born on %d.\" %\n",
        "      (sandy.name, sandy.surname, sandy.DOB))"
      ]
    },
    {
      "cell_type": "markdown",
      "metadata": {
        "id": "2sQSYcxW_UGO"
      },
      "source": [
        "The following example defines an empty class (i.e. the class doesn't have a state) called _Person_ then creates a _Person_ instance called _john_doe_ and adds three attributes to _john_doe_. We see that we can access objects attributes using the \"dot\" operator.\n",
        "\n",
        "This isn't a recommended style because classes should describe homogeneous entities. A way to do so is the following:"
      ]
    },
    {
      "cell_type": "code",
      "execution_count": null,
      "metadata": {
        "id": "YNkdVgMk_UGO"
      },
      "outputs": [],
      "source": []
    },
    {
      "cell_type": "markdown",
      "metadata": {
        "id": "9SDg6qyG_UGP"
      },
      "source": [
        "    __init__(self, ...)\n",
        "Is a special _Python_ method that is automatically called after an object construction. Its purpose is to initialize every object state. The first argument (by convention) __self__ is automatically passed either and refers to the object itself.\n",
        "\n",
        "In the preceding example, `__init__` adds three attributes to every object that is instantiated. So the class is actually describing each object's state.\n"
      ]
    },
    {
      "cell_type": "markdown",
      "metadata": {
        "id": "5HKOhHs__UGP"
      },
      "source": [
        "We cannot directly manipulate any class rather we need to create an instance of the class: "
      ]
    },
    {
      "cell_type": "code",
      "execution_count": null,
      "metadata": {
        "id": "g3Pnn-SY_UGQ"
      },
      "outputs": [],
      "source": [
        "\n"
      ]
    },
    {
      "cell_type": "markdown",
      "metadata": {
        "id": "T8f_VPqh_UGQ"
      },
      "source": [
        "\n",
        "We have just created an instance of the Person class, bound to the variable `alec`. "
      ]
    },
    {
      "cell_type": "markdown",
      "metadata": {
        "id": "Y5G6qTQ3_UGQ"
      },
      "source": [
        "### 1.2 Methods"
      ]
    },
    {
      "cell_type": "code",
      "execution_count": 24,
      "metadata": {
        "colab": {
          "base_uri": "https://localhost:8080/"
        },
        "id": "xmldesfj_UGR",
        "outputId": "f7740bfe-5bb8-4ed7-da2b-d76e4c684513"
      },
      "outputs": [
        {
          "output_type": "stream",
          "name": "stdout",
          "text": [
            "<__main__.Person object at 0x7f13158692d0>\n",
            "2001\n"
          ]
        }
      ],
      "source": [
        "class Person:\n",
        "    def __init__(self, name, surname,DOB):\n",
        "      self.name = name\n",
        "      self.surname=surname\n",
        "      self.DOB = DOB\n",
        "\n",
        "      def age(self, current_year):\n",
        "        return current_year-self.DOB\n",
        "\n",
        "      def __str__(self):\n",
        "        return \"%s %s was born in %d .\"  % (self.name, self.surname, self.DOB)\n",
        "\n",
        "sandy = Person(\"Sandeep\", \"Kumar\", 2001)\n",
        "print(sandy)\n",
        "print(sandy.DOB)"
      ]
    },
    {
      "cell_type": "code",
      "execution_count": 2,
      "metadata": {
        "id": "ckca_82H_UGR"
      },
      "outputs": [],
      "source": []
    },
    {
      "cell_type": "markdown",
      "metadata": {
        "id": "5-8IMS7q_UGR"
      },
      "source": [
        "We defined two more methods `age` and  `__str__`. The latter is once again a special method that is called by Python when the object has to be represented as a string (e.g. when has to be printed). If the `__str__` method isn't defined the **print** command shows the type of object and its address in memory. We can see that in order to call a method we use the same syntax for attributes (**instance_name.instance _method**)."
      ]
    },
    {
      "cell_type": "markdown",
      "metadata": {
        "id": "enI_Yc2__UGS"
      },
      "source": [
        "## 2 Inheritance"
      ]
    },
    {
      "cell_type": "markdown",
      "metadata": {
        "id": "ZLjJ6WDA_UGS"
      },
      "source": [
        "Once a class is defined it models a concept. It is useful to extend a class behavior to model a less general concept. Say we need to model a Student, but we know that every student is also a Person so we shouldn't model the Person again but inherit from it instead."
      ]
    },
    {
      "cell_type": "code",
      "execution_count": 31,
      "metadata": {
        "colab": {
          "base_uri": "https://localhost:8080/"
        },
        "id": "uSS67Pq9_UGT",
        "outputId": "7958393f-1e2c-4ae2-d17d-c3415e667249"
      },
      "outputs": [
        {
          "output_type": "stream",
          "name": "stdout",
          "text": [
            "<__main__.Student object at 0x7f131594d190>\n",
            "<class '__main__.Student'>\n",
            "True\n",
            "True\n"
          ]
        }
      ],
      "source": [
        "class Student(Person):\n",
        "    def __init__(self, student_id, *args, **kwargs):\n",
        "        super(Student, self).__init__(*args, **kwargs)\n",
        "        self.student_id = student_id\n",
        "\n",
        "sandeep = Student(1, 'Sandeep', 'Kumar', 2001)\n",
        "print(sandeep)\n",
        "print(type(sandeep))\n",
        "print(isinstance(sandeep, Person))\n",
        "print(isinstance(sandeep, object))\n"
      ]
    },
    {
      "cell_type": "markdown",
      "metadata": {
        "id": "ehOG9OrK_UGT"
      },
      "source": [
        "\n",
        "Charlie now has the same behavior of a Person, but his state has also a student ID. A Person is one of the base classes of Student and Student is one of the sub classes of Person. Be aware that a subclass knows about its superclasses but the converse isn't true.\n",
        "\n",
        "A sub class doesn't only inherits from its base classes, but from its base classes too, forming an inheritance tree that starts from a object (every class base class).\n",
        "\n",
        "    super(Class, instance)\n",
        "    \n",
        "is a function that returns a proxy-object that delegates method calls to a parent or sibling class of type.\n",
        "So we used it to access Person's `__init__`."
      ]
    },
    {
      "cell_type": "markdown",
      "metadata": {
        "id": "tD23Punx_UGU"
      },
      "source": [
        "### 2.1 Overriding methods"
      ]
    },
    {
      "cell_type": "markdown",
      "metadata": {
        "id": "UvgjUoVf_UGU"
      },
      "source": [
        "Inheritance allows to add new methods to a subclass but often is useful to change the behavior of a method defined in the superclass. To override a method just define it again."
      ]
    },
    {
      "cell_type": "code",
      "execution_count": 32,
      "metadata": {
        "colab": {
          "base_uri": "https://localhost:8080/"
        },
        "id": "JB6p316T_UGU",
        "outputId": "99ef5839-e8c1-47b3-ec5f-51cb6c7152ee"
      },
      "outputs": [
        {
          "output_type": "stream",
          "name": "stdout",
          "text": [
            "<__main__.Student object at 0x7f1315834850>\n"
          ]
        }
      ],
      "source": [
        "class Student(Person):\n",
        "  def __init__(self, student_id, *args, **kwargs):\n",
        "    super(Student, self).__init__(*args, **kwargs)\n",
        "    self._student_id = student_id\n",
        "\n",
        "    def __str__(self):\n",
        "        return super(Student, self).__str__() +\"And has ID: %d\" % self._student_id\n",
        "\n",
        "sandeep = Student(1, 'Sandeep', 'Kumar', 2001)\n",
        "print(sandeep)"
      ]
    },
    {
      "cell_type": "markdown",
      "metadata": {
        "id": "jUvwN-QC_UGV"
      },
      "source": [
        "We defined `__str__` again overriding the one wrote in Person, but we wanted to extend it, so we used super to achieve our goal."
      ]
    },
    {
      "cell_type": "markdown",
      "metadata": {
        "id": "rlJtVoyF_UGV"
      },
      "source": [
        "## 3 Encapsulation"
      ]
    },
    {
      "cell_type": "markdown",
      "metadata": {
        "id": "tvKusUx7_UGW"
      },
      "source": [
        "Encapsulation is an another powerful way to extend a class which consists on wrapping an object with a second one.\n",
        "There are two main reasons to use encapsulation:\n",
        "* Composition\n",
        "* Dynamic Extension\n"
      ]
    },
    {
      "cell_type": "markdown",
      "metadata": {
        "id": "w2WeUGuC_UGW"
      },
      "source": [
        "### 3.1 Composition"
      ]
    },
    {
      "cell_type": "markdown",
      "metadata": {
        "id": "p2zlFkrJ_UGX"
      },
      "source": [
        "The abstraction process relies on creating a simplified model that remove useless details from a concept. In order to be simplified, a model should be described in terms of other simpler concepts.\n",
        "For example, we can say that a car is composed by:\n",
        "* Tyres\n",
        "* Engine\n",
        "* Body\n",
        "\n",
        "And break down each one of these elements in simpler parts until we reach primitive data."
      ]
    },
    {
      "cell_type": "markdown",
      "metadata": {
        "id": "JtGifxZ__UGX"
      },
      "source": [
        "## 4 Polymorphism and DuckTyping"
      ]
    },
    {
      "cell_type": "markdown",
      "metadata": {
        "id": "HyAK8kWO_UGX"
      },
      "source": [
        "`Python` uses dynamic typing which is also called as duck typing. If an object implements a method you can use it, irrespective of the type. This is different from statically typed languages, where the type of a construct need to be explicitly declared. Polymorphism is the ability to use the same syntax for objects of different types:"
      ]
    },
    {
      "cell_type": "code",
      "execution_count": 34,
      "metadata": {
        "colab": {
          "base_uri": "https://localhost:8080/"
        },
        "id": "hzFz5AS7_UGX",
        "outputId": "17a7919b-16a3-413a-8119-90923a7f79d6"
      },
      "outputs": [
        {
          "output_type": "stream",
          "name": "stdout",
          "text": [
            "2\n",
            "['a', 'b', 'c', 'd', 'e']\n",
            "abracadabra\n"
          ]
        }
      ],
      "source": [
        "def summer(a,b):\n",
        "  return a+b\n",
        "\n",
        "print(summer(1,1))\n",
        "print(summer([\"a\", \"b\", \"c\"], [\"d\", \"e\"]))\n",
        "print(summer(\"abra\", \"cadabra\"))"
      ]
    },
    {
      "cell_type": "markdown",
      "metadata": {
        "id": "TKHWkcBk_UGY"
      },
      "source": [
        "## 5 How long does a class should be?"
      ]
    },
    {
      "cell_type": "markdown",
      "metadata": {
        "id": "P7SPwuj1_UGY"
      },
      "source": [
        "There is an Object Oriented Programming (OOP) principle called Single Responsibility Principle (SRP) and it states: \"A class should have one single responsibility\" or \"A class should have only one reason to change\". \n",
        "\n",
        "If you come across a class which doesn't follow the SRP principle, you should spilt it. You will be grateful to SRP during your software maintenance. "
      ]
    },
    {
      "cell_type": "markdown",
      "metadata": {
        "id": "o41HZrbw_UGZ"
      },
      "source": [
        "# Files\n",
        "\n",
        "Python uses file objects to interact with the external files on your computer. These file objects cab be of any file format on your computer i.e. can be an audio file, a text file, emails, Excel documents, etc. Note that You will probably need to install certain libraries or modules to interact with those various file types, but they are easily available. (We will cover downloading modules later on in the course).\n",
        "\n",
        "Python has a built-in open function that allows us to open and play with basic file types. First we will need a file though. We're going to use some iPython magic to create a text file!\n",
        "\n",
        "## iPython Writing a File"
      ]
    },
    {
      "cell_type": "code",
      "execution_count": 36,
      "metadata": {
        "colab": {
          "base_uri": "https://localhost:8080/"
        },
        "id": "TqnK_9Xe_UGZ",
        "outputId": "77ff239a-ed7f-4d1d-8e61-b14317502b48"
      },
      "outputs": [
        {
          "output_type": "stream",
          "name": "stdout",
          "text": [
            "Overwriting test.txt\n"
          ]
        }
      ],
      "source": [
        "%%writefile test.txt\n",
        "Hello, this is a quick test file"
      ]
    },
    {
      "cell_type": "markdown",
      "metadata": {
        "id": "IMRFt96J_UGZ"
      },
      "source": [
        "## Python Opening a file\n",
        "\n",
        "We can open a file with the open() function. This function also takes in arguments (also called parameters). Let's see how this is used:"
      ]
    },
    {
      "cell_type": "code",
      "execution_count": 38,
      "metadata": {
        "id": "01SYBefw_UGa"
      },
      "outputs": [],
      "source": [
        "# Open the text.txt we made earlier\n",
        "my_file = open('test.txt')"
      ]
    },
    {
      "cell_type": "code",
      "execution_count": 39,
      "metadata": {
        "colab": {
          "base_uri": "https://localhost:8080/",
          "height": 36
        },
        "id": "7OoWxqwQ_UGb",
        "outputId": "07f3199a-f4a1-4a61-a32d-ab3f68d3aaae"
      },
      "outputs": [
        {
          "output_type": "execute_result",
          "data": {
            "text/plain": [
              "'Hello, this is a quick test file\\n'"
            ],
            "application/vnd.google.colaboratory.intrinsic+json": {
              "type": "string"
            }
          },
          "metadata": {},
          "execution_count": 39
        }
      ],
      "source": [
        "# We can now read the file\n",
        "my_file.read()"
      ]
    },
    {
      "cell_type": "code",
      "execution_count": 40,
      "metadata": {
        "colab": {
          "base_uri": "https://localhost:8080/",
          "height": 36
        },
        "id": "y5ZomR08_UGb",
        "outputId": "642ae861-b3fa-4a0b-92ed-aef2941afd58"
      },
      "outputs": [
        {
          "output_type": "execute_result",
          "data": {
            "text/plain": [
              "''"
            ],
            "application/vnd.google.colaboratory.intrinsic+json": {
              "type": "string"
            }
          },
          "metadata": {},
          "execution_count": 40
        }
      ],
      "source": [
        "# But what happens if we try to read it again?\n",
        "my_file.read()"
      ]
    },
    {
      "cell_type": "markdown",
      "metadata": {
        "id": "avjF7eF9_UGc"
      },
      "source": [
        "This happens because you can imagine the reading \"cursor\" is at the end of the file after having read it. So there is nothing left to read. We can reset the \"cursor\" like this:"
      ]
    },
    {
      "cell_type": "code",
      "execution_count": 41,
      "metadata": {
        "colab": {
          "base_uri": "https://localhost:8080/"
        },
        "id": "PldWii5c_UGc",
        "outputId": "464b150f-2c15-481c-e851-3810b4929113"
      },
      "outputs": [
        {
          "output_type": "execute_result",
          "data": {
            "text/plain": [
              "0"
            ]
          },
          "metadata": {},
          "execution_count": 41
        }
      ],
      "source": [
        "# Seek to the start of file (index 0)\n",
        "my_file.seek(0)"
      ]
    },
    {
      "cell_type": "code",
      "execution_count": 42,
      "metadata": {
        "colab": {
          "base_uri": "https://localhost:8080/",
          "height": 36
        },
        "id": "_bZ9a_US_UGc",
        "outputId": "abaa341c-dafc-4a1d-deb9-9a08d4b4b707"
      },
      "outputs": [
        {
          "output_type": "execute_result",
          "data": {
            "text/plain": [
              "'Hello, this is a quick test file\\n'"
            ],
            "application/vnd.google.colaboratory.intrinsic+json": {
              "type": "string"
            }
          },
          "metadata": {},
          "execution_count": 42
        }
      ],
      "source": [
        "# Now read again\n",
        "my_file.read()"
      ]
    },
    {
      "cell_type": "markdown",
      "metadata": {
        "id": "OkXvIcOu_UGd"
      },
      "source": [
        "In order to not have to reset every time, we can also use the readlines method. Use caution with large files, since everything will be held in memory. We will learn how to iterate over large files later in the course."
      ]
    },
    {
      "cell_type": "code",
      "execution_count": 43,
      "metadata": {
        "colab": {
          "base_uri": "https://localhost:8080/"
        },
        "id": "Ku_R_XLq_UGd",
        "outputId": "0f76fdd1-9730-4be8-9d2e-ec21992ca7d0"
      },
      "outputs": [
        {
          "output_type": "execute_result",
          "data": {
            "text/plain": [
              "0"
            ]
          },
          "metadata": {},
          "execution_count": 43
        }
      ],
      "source": [
        "# Seek to the start of file (index 0)\n",
        "my_file.seek(0)"
      ]
    },
    {
      "cell_type": "code",
      "execution_count": 44,
      "metadata": {
        "colab": {
          "base_uri": "https://localhost:8080/"
        },
        "id": "rgMW5fUz_UGd",
        "outputId": "57f77acd-e51a-4e52-e756-1a458b4694bd"
      },
      "outputs": [
        {
          "output_type": "execute_result",
          "data": {
            "text/plain": [
              "['Hello, this is a quick test file\\n']"
            ]
          },
          "metadata": {},
          "execution_count": 44
        }
      ],
      "source": [
        "# Readlines returns a list of the lines in the file.\n",
        "my_file.readlines()"
      ]
    },
    {
      "cell_type": "markdown",
      "metadata": {
        "id": "nhh9pNSx_UGe"
      },
      "source": [
        "## Writing to a File\n",
        "\n",
        "By default, using the open() function will only allow us to read the file, we need to pass the argument 'w' to write over the file. For example:"
      ]
    },
    {
      "cell_type": "code",
      "execution_count": 45,
      "metadata": {
        "id": "ogxwLiUU_UGe"
      },
      "outputs": [],
      "source": [
        "# Add the second argument to the function, 'w' which stands for write\n",
        "my_files = open('test.txt', 'w+')"
      ]
    },
    {
      "cell_type": "code",
      "execution_count": 46,
      "metadata": {
        "colab": {
          "base_uri": "https://localhost:8080/",
          "height": 182
        },
        "id": "ADSZrylk_UGe",
        "outputId": "f3fa7543-e40a-4d51-f266-5f363251d453"
      },
      "outputs": [
        {
          "output_type": "error",
          "ename": "UnsupportedOperation",
          "evalue": "ignored",
          "traceback": [
            "\u001b[0;31m---------------------------------------------------------------------------\u001b[0m",
            "\u001b[0;31mUnsupportedOperation\u001b[0m                      Traceback (most recent call last)",
            "\u001b[0;32m<ipython-input-46-ce9bf3258804>\u001b[0m in \u001b[0;36m<module>\u001b[0;34m\u001b[0m\n\u001b[1;32m      1\u001b[0m \u001b[0;31m# Write to the file\u001b[0m\u001b[0;34m\u001b[0m\u001b[0;34m\u001b[0m\u001b[0;34m\u001b[0m\u001b[0m\n\u001b[0;32m----> 2\u001b[0;31m \u001b[0mmy_file\u001b[0m\u001b[0;34m.\u001b[0m\u001b[0mwrite\u001b[0m\u001b[0;34m(\u001b[0m\u001b[0;34m'This is a new line'\u001b[0m\u001b[0;34m)\u001b[0m\u001b[0;34m\u001b[0m\u001b[0;34m\u001b[0m\u001b[0m\n\u001b[0m",
            "\u001b[0;31mUnsupportedOperation\u001b[0m: not writable"
          ]
        }
      ],
      "source": [
        "# Write to the file\n",
        "my_file.write('This is a new line')"
      ]
    },
    {
      "cell_type": "code",
      "execution_count": 47,
      "metadata": {
        "colab": {
          "base_uri": "https://localhost:8080/"
        },
        "id": "qS1xeQh5_UGf",
        "outputId": "7a8d70dd-e6fa-42da-8348-a522c4b2c3e4"
      },
      "outputs": [
        {
          "output_type": "execute_result",
          "data": {
            "text/plain": [
              "0"
            ]
          },
          "metadata": {},
          "execution_count": 47
        }
      ],
      "source": [
        "# Seek to the start of file (index 0)\n",
        "my_file.seek(0)"
      ]
    },
    {
      "cell_type": "code",
      "execution_count": 48,
      "metadata": {
        "colab": {
          "base_uri": "https://localhost:8080/",
          "height": 36
        },
        "id": "ovTPKvRL_UGf",
        "outputId": "2fa91257-2918-4d12-d49c-af9bad21dc82"
      },
      "outputs": [
        {
          "output_type": "execute_result",
          "data": {
            "text/plain": [
              "''"
            ],
            "application/vnd.google.colaboratory.intrinsic+json": {
              "type": "string"
            }
          },
          "metadata": {},
          "execution_count": 48
        }
      ],
      "source": [
        "# Read the file\n",
        "my_file.read()"
      ]
    },
    {
      "cell_type": "markdown",
      "metadata": {
        "id": "4YDtjwRI_UGf"
      },
      "source": [
        "## Iterating through a File\n",
        "\n",
        "Let's get a quick preview of a for loop by iterating over a text file. First, let's make a new text file with some iPython Magic:"
      ]
    },
    {
      "cell_type": "code",
      "execution_count": 49,
      "metadata": {
        "colab": {
          "base_uri": "https://localhost:8080/"
        },
        "id": "pdvP-_vR_UGg",
        "outputId": "aa66c868-fe46-4c7e-a641-37d638488e60"
      },
      "outputs": [
        {
          "output_type": "stream",
          "name": "stdout",
          "text": [
            "Overwriting test.txt\n"
          ]
        }
      ],
      "source": [
        "%%writefile test.txt\n",
        "First Line\n",
        "Second Line"
      ]
    },
    {
      "cell_type": "markdown",
      "metadata": {
        "id": "VQMt3zAq_UGg"
      },
      "source": [
        "Now we can use a little bit of flow to tell the program to for through every line of the file and do something:"
      ]
    },
    {
      "cell_type": "code",
      "execution_count": 50,
      "metadata": {
        "colab": {
          "base_uri": "https://localhost:8080/"
        },
        "id": "lh7sBbj__UGg",
        "outputId": "c8b108a2-a93d-47e6-91d3-e2e8ab94750c"
      },
      "outputs": [
        {
          "output_type": "stream",
          "name": "stdout",
          "text": [
            "First Line\n",
            "\n",
            "Second Line\n",
            "\n"
          ]
        }
      ],
      "source": [
        "for line in open('test.txt'):\n",
        "  print(line)"
      ]
    },
    {
      "cell_type": "code",
      "execution_count": 52,
      "metadata": {
        "colab": {
          "base_uri": "https://localhost:8080/"
        },
        "id": "ZTK2qG62_UGg",
        "outputId": "c284bc74-0170-4ea4-a4eb-28c0f91ce123"
      },
      "outputs": [
        {
          "output_type": "stream",
          "name": "stdout",
          "text": [
            "First Line\n",
            "\n",
            "Second Line\n",
            "\n"
          ]
        }
      ],
      "source": [
        "# Pertaining to the first point above\n",
        "for asdf in open('test.txt'):\n",
        "  print(asdf)"
      ]
    },
    {
      "cell_type": "markdown",
      "metadata": {
        "id": "PlbFRSOX_UGh"
      },
      "source": [
        "# StringIO \n",
        "\n",
        "The StringIO module implements an in-memory filelike object. This object can then be used as input or output to most functions that would expect a standard file object.\n",
        "\n",
        "The best way to show this is by example:"
      ]
    },
    {
      "cell_type": "code",
      "execution_count": 53,
      "metadata": {
        "id": "7ynDblim_UGh"
      },
      "outputs": [],
      "source": [
        "from io import StringIO"
      ]
    },
    {
      "cell_type": "code",
      "execution_count": 54,
      "metadata": {
        "id": "J0ALgTYn_UGh"
      },
      "outputs": [],
      "source": [
        "# Arbitrary String\n",
        "message = 'This is just a normal string'"
      ]
    },
    {
      "cell_type": "code",
      "execution_count": 55,
      "metadata": {
        "id": "CIM-o5dU_UGi"
      },
      "outputs": [],
      "source": [
        "# Use StringIO method to set as file object\n",
        "f=StringIO(message)"
      ]
    },
    {
      "cell_type": "markdown",
      "metadata": {
        "id": "wKL67dXb_UGi"
      },
      "source": [
        "Now we have an object *f* that we will be able to treat just like a file. For example:"
      ]
    },
    {
      "cell_type": "code",
      "execution_count": 56,
      "metadata": {
        "colab": {
          "base_uri": "https://localhost:8080/",
          "height": 36
        },
        "id": "D3p5gxpD_UGi",
        "outputId": "ef6380a2-2b78-4332-ae07-efa5b2944a78"
      },
      "outputs": [
        {
          "output_type": "execute_result",
          "data": {
            "text/plain": [
              "'This is just a normal string'"
            ],
            "application/vnd.google.colaboratory.intrinsic+json": {
              "type": "string"
            }
          },
          "metadata": {},
          "execution_count": 56
        }
      ],
      "source": [
        "f.read()"
      ]
    },
    {
      "cell_type": "markdown",
      "metadata": {
        "id": "c9Ex5Fqs_UGj"
      },
      "source": [
        "We can also write to it"
      ]
    },
    {
      "cell_type": "code",
      "execution_count": 58,
      "metadata": {
        "colab": {
          "base_uri": "https://localhost:8080/"
        },
        "id": "jbprEbH0_UGj",
        "outputId": "8ae73cce-4816-4334-ffa1-ca0fe0a7b405"
      },
      "outputs": [
        {
          "output_type": "execute_result",
          "data": {
            "text/plain": [
              "39"
            ]
          },
          "metadata": {},
          "execution_count": 58
        }
      ],
      "source": [
        "f.write('Second line written to file like object')"
      ]
    },
    {
      "cell_type": "code",
      "execution_count": 59,
      "metadata": {
        "colab": {
          "base_uri": "https://localhost:8080/"
        },
        "id": "agVeqrie_UGj",
        "outputId": "4457afa0-c613-41a8-f6b2-5bdabeaeb888"
      },
      "outputs": [
        {
          "output_type": "execute_result",
          "data": {
            "text/plain": [
              "0"
            ]
          },
          "metadata": {},
          "execution_count": 59
        }
      ],
      "source": [
        "# Reset cursor just like you would a file\n",
        "f.seek(0)"
      ]
    },
    {
      "cell_type": "code",
      "execution_count": 61,
      "metadata": {
        "colab": {
          "base_uri": "https://localhost:8080/",
          "height": 53
        },
        "id": "i9QRAFbu_UGj",
        "outputId": "70a7eba1-aa96-4f32-9040-5bb21922c830"
      },
      "outputs": [
        {
          "output_type": "execute_result",
          "data": {
            "text/plain": [
              "'This is just a normal stringSecond line written to file like objectSecond line written to file like object'"
            ],
            "application/vnd.google.colaboratory.intrinsic+json": {
              "type": "string"
            }
          },
          "metadata": {},
          "execution_count": 61
        }
      ],
      "source": [
        "# Read again\n",
        "f.read()"
      ]
    },
    {
      "cell_type": "code",
      "execution_count": null,
      "metadata": {
        "id": "jDSUa_VP_UGk"
      },
      "outputs": [],
      "source": []
    }
  ],
  "metadata": {
    "kernelspec": {
      "display_name": "Python 3",
      "language": "python",
      "name": "python3"
    },
    "language_info": {
      "codemirror_mode": {
        "name": "ipython",
        "version": 3
      },
      "file_extension": ".py",
      "mimetype": "text/x-python",
      "name": "python",
      "nbconvert_exporter": "python",
      "pygments_lexer": "ipython3",
      "version": "3.7.3"
    },
    "colab": {
      "provenance": []
    }
  },
  "nbformat": 4,
  "nbformat_minor": 0
}